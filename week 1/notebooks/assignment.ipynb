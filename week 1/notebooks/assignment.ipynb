{
  "nbformat": 4,
  "nbformat_minor": 0,
  "metadata": {
    "colab": {
      "name": "Assignment Wk 1.ipynb",
      "provenance": []
    },
    "kernelspec": {
      "name": "python3",
      "display_name": "Python 3.8.8 64-bit ('base': conda)"
    },
    "language_info": {
      "name": "python",
      "version": "3.8.8"
    },
    "interpreter": {
      "hash": "ee68c6231b7666e3fe3294cf499981ff48cc7584df16761ca3291063d0168de0"
    }
  },
  "cells": [
    {
      "cell_type": "markdown",
      "metadata": {
        "id": "1jl0JXCdljWM"
      },
      "source": [
        "# **PURPOSE**\n",
        "To analyze the dataset to deliver insights extracted"
      ]
    },
    {
      "cell_type": "markdown",
      "metadata": {
        "id": "1Ik_FcjMZ81x"
      },
      "source": [
        "### **FIRST IMPORTING ENV**"
      ]
    },
    {
      "cell_type": "code",
      "metadata": {
        "id": "AZEWIMySaK-b"
      },
      "source": [
        "import pandas as pd\n",
        "import numpy as np\n",
        "import seaborn as sns\n",
        "import matplotlib.pyplot as plt"
      ],
      "execution_count": 1,
      "outputs": [
        {
          "output_type": "stream",
          "name": "stderr",
          "text": [
            "Matplotlib is building the font cache; this may take a moment.\n"
          ]
        }
      ]
    },
    {
      "cell_type": "markdown",
      "metadata": {
        "id": "oUyq1LHblS8R"
      },
      "source": [
        " **LOADING THE DATA**"
      ]
    },
    {
      "cell_type": "code",
      "metadata": {
        "id": "U00nb_mRla7X"
      },
      "source": [
        "Path_to_data = '/data/'"
      ],
      "execution_count": 3,
      "outputs": []
    },
    {
      "cell_type": "code",
      "metadata": {
        "id": "hMvXL0GHl9ed"
      },
      "source": [
        "#Read data from csv file\n",
        "df = pd.read_csv(Path_to_data + 'telcom.csv')\n",
        "\n",
        "#Display data\n",
        "df"
      ],
      "execution_count": null,
      "outputs": []
    },
    {
      "cell_type": "code",
      "metadata": {
        "id": "HN2mNEpLmUEf"
      },
      "source": [],
      "execution_count": null,
      "outputs": []
    }
  ]
}