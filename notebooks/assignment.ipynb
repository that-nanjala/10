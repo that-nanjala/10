{
  "nbformat": 4,
  "nbformat_minor": 0,
  "metadata": {
    "colab": {
      "name": "Assignment Wk 1.ipynb",
      "provenance": []
    },
    "kernelspec": {
      "name": "python3",
      "display_name": "Python 3.8.8 64-bit ('base': conda)"
    },
    "language_info": {
      "name": "python",
      "version": "3.8.8"
    },
    "interpreter": {
      "hash": "ee68c6231b7666e3fe3294cf499981ff48cc7584df16761ca3291063d0168de0"
    }
  },
  "cells": [
    {
      "cell_type": "markdown",
      "metadata": {
        "id": "1jl0JXCdljWM"
      },
      "source": [
        "# **PURPOSE**\n",
        "To analyze the dataset to deliver insights extracted"
      ]
    },
    {
      "cell_type": "markdown",
      "metadata": {
        "id": "1Ik_FcjMZ81x"
      },
      "source": [
        "### **FIRST IMPORTING ENV**"
      ]
    },
    {
      "cell_type": "code",
      "execution_count": 3,
      "metadata": {},
      "outputs": [
        {
          "output_type": "stream",
          "name": "stdout",
          "text": [
            "Requirement already satisfied: numpy in c:\\users\\zawadi\\anaconda3\\lib\\site-packages (1.20.1)\nRequirement already satisfied: pandas in c:\\users\\zawadi\\anaconda3\\lib\\site-packages (1.2.4)\nRequirement already satisfied: matplotlib in c:\\users\\zawadi\\anaconda3\\lib\\site-packages (3.3.4)\nRequirement already satisfied: seaborn in c:\\users\\zawadi\\anaconda3\\lib\\site-packages (0.11.1)\nRequirement already satisfied: sklearn in c:\\users\\zawadi\\anaconda3\\lib\\site-packages (0.0)\nRequirement already satisfied: kiwisolver>=1.0.1 in c:\\users\\zawadi\\anaconda3\\lib\\site-packages (from matplotlib) (1.3.1)\nRequirement already satisfied: pyparsing!=2.0.4,!=2.1.2,!=2.1.6,>=2.0.3 in c:\\users\\zawadi\\anaconda3\\lib\\site-packages (from matplotlib) (2.4.7)\nRequirement already satisfied: cycler>=0.10 in c:\\users\\zawadi\\anaconda3\\lib\\site-packages (from matplotlib) (0.10.0)\nRequirement already satisfied: pillow>=6.2.0 in c:\\users\\zawadi\\anaconda3\\lib\\site-packages (from matplotlib) (8.2.0)\nRequirement already satisfied: python-dateutil>=2.1 in c:\\users\\zawadi\\anaconda3\\lib\\site-packages (from matplotlib) (2.8.1)\nRequirement already satisfied: six in c:\\users\\zawadi\\anaconda3\\lib\\site-packages (from cycler>=0.10->matplotlib) (1.15.0)\nRequirement already satisfied: pytz>=2017.3 in c:\\users\\zawadi\\anaconda3\\lib\\site-packages (from pandas) (2021.1)\nRequirement already satisfied: scipy>=1.0 in c:\\users\\zawadi\\anaconda3\\lib\\site-packages (from seaborn) (1.6.2)\nRequirement already satisfied: scikit-learn in c:\\users\\zawadi\\anaconda3\\lib\\site-packages (from sklearn) (0.24.1)\nRequirement already satisfied: joblib>=0.11 in c:\\users\\zawadi\\anaconda3\\lib\\site-packages (from scikit-learn->sklearn) (1.0.1)\nRequirement already satisfied: threadpoolctl>=2.0.0 in c:\\users\\zawadi\\anaconda3\\lib\\site-packages (from scikit-learn->sklearn) (2.1.0)\n"
          ]
        }
      ],
      "source": [
        "!pip install numpy pandas matplotlib seaborn sklearn"
      ]
    },
    {
      "cell_type": "code",
      "metadata": {
        "id": "AZEWIMySaK-b"
      },
      "source": [
        "import pandas as pd\n",
        "import numpy as np\n",
        "import seaborn as sns\n",
        "import matplotlib.pyplot as plt\n",
        "from statistics import *\n"
      ],
      "execution_count": 12,
      "outputs": []
    },
    {
      "cell_type": "markdown",
      "metadata": {
        "id": "oUyq1LHblS8R"
      },
      "source": [
        " **LOADING THE DATA**"
      ]
    },
    {
      "cell_type": "code",
      "metadata": {
        "id": "U00nb_mRla7X"
      },
      "source": [
        "Path_to_data = \"../data/telcom.csv\""
      ],
      "execution_count": 6,
      "outputs": []
    },
    {
      "cell_type": "code",
      "metadata": {
        "id": "hMvXL0GHl9ed"
      },
      "source": [
        "#Read data from csv file\n",
        "db = pd.read_csv(Path_to_data, na_values=['?', None])\n",
        "\n",
        "#Display data\n",
        "db.head()"
      ],
      "execution_count": 7,
      "outputs": [
        {
          "output_type": "execute_result",
          "data": {
            "text/plain": [
              "      Bearer Id            Start  Start ms              End  End ms  \\\n",
              "0  1.311448e+19   4/4/2019 12:01     770.0  4/25/2019 14:35   662.0   \n",
              "1  1.311448e+19   4/9/2019 13:04     235.0   4/25/2019 8:15   606.0   \n",
              "2  1.311448e+19   4/9/2019 17:42       1.0  4/25/2019 11:58   652.0   \n",
              "3  1.311448e+19   4/10/2019 0:31     486.0   4/25/2019 7:36   171.0   \n",
              "4  1.311448e+19  4/12/2019 20:10     565.0  4/25/2019 10:40   954.0   \n",
              "\n",
              "   Dur. (ms)          IMSI  MSISDN/Number          IMEI  \\\n",
              "0  1823652.0  2.082014e+14   3.366496e+10  3.552121e+13   \n",
              "1  1365104.0  2.082019e+14   3.368185e+10  3.579401e+13   \n",
              "2  1361762.0  2.082003e+14   3.376063e+10  3.528151e+13   \n",
              "3  1321509.0  2.082014e+14   3.375034e+10  3.535661e+13   \n",
              "4  1089009.0  2.082014e+14   3.369980e+10  3.540701e+13   \n",
              "\n",
              "      Last Location Name  ...  Youtube DL (Bytes)  Youtube UL (Bytes)  \\\n",
              "0  9.16456699548519E+015  ...          15854611.0           2501332.0   \n",
              "1                L77566A  ...          20247395.0          19111729.0   \n",
              "2                D42335A  ...          19725661.0          14699576.0   \n",
              "3                T21824A  ...          21388122.0          15146643.0   \n",
              "4                D88865A  ...          15259380.0          18962873.0   \n",
              "\n",
              "   Netflix DL (Bytes)  Netflix UL (Bytes)  Gaming DL (Bytes)  \\\n",
              "0           8198936.0           9656251.0        278082303.0   \n",
              "1          18338413.0          17227132.0        608750074.0   \n",
              "2          17587794.0           6163408.0        229584621.0   \n",
              "3          13994646.0           1097942.0        799538153.0   \n",
              "4          17124581.0            415218.0        527707248.0   \n",
              "\n",
              "   Gaming UL (Bytes)  Other DL (Bytes)  Other UL (Bytes)  Total UL (Bytes)  \\\n",
              "0         14344150.0       171744450.0         8814393.0        36749741.0   \n",
              "1          1170709.0       526904238.0        15055145.0        53800391.0   \n",
              "2           395630.0       410692588.0         4215763.0        27883638.0   \n",
              "3         10849722.0       749039933.0        12797283.0        43324218.0   \n",
              "4          3529801.0       550709500.0        13910322.0        38542814.0   \n",
              "\n",
              "   Total DL (Bytes)  \n",
              "0       308879636.0  \n",
              "1       653384965.0  \n",
              "2       279807335.0  \n",
              "3       846028530.0  \n",
              "4       569138589.0  \n",
              "\n",
              "[5 rows x 55 columns]"
            ],
            "text/html": "<div>\n<style scoped>\n    .dataframe tbody tr th:only-of-type {\n        vertical-align: middle;\n    }\n\n    .dataframe tbody tr th {\n        vertical-align: top;\n    }\n\n    .dataframe thead th {\n        text-align: right;\n    }\n</style>\n<table border=\"1\" class=\"dataframe\">\n  <thead>\n    <tr style=\"text-align: right;\">\n      <th></th>\n      <th>Bearer Id</th>\n      <th>Start</th>\n      <th>Start ms</th>\n      <th>End</th>\n      <th>End ms</th>\n      <th>Dur. (ms)</th>\n      <th>IMSI</th>\n      <th>MSISDN/Number</th>\n      <th>IMEI</th>\n      <th>Last Location Name</th>\n      <th>...</th>\n      <th>Youtube DL (Bytes)</th>\n      <th>Youtube UL (Bytes)</th>\n      <th>Netflix DL (Bytes)</th>\n      <th>Netflix UL (Bytes)</th>\n      <th>Gaming DL (Bytes)</th>\n      <th>Gaming UL (Bytes)</th>\n      <th>Other DL (Bytes)</th>\n      <th>Other UL (Bytes)</th>\n      <th>Total UL (Bytes)</th>\n      <th>Total DL (Bytes)</th>\n    </tr>\n  </thead>\n  <tbody>\n    <tr>\n      <th>0</th>\n      <td>1.311448e+19</td>\n      <td>4/4/2019 12:01</td>\n      <td>770.0</td>\n      <td>4/25/2019 14:35</td>\n      <td>662.0</td>\n      <td>1823652.0</td>\n      <td>2.082014e+14</td>\n      <td>3.366496e+10</td>\n      <td>3.552121e+13</td>\n      <td>9.16456699548519E+015</td>\n      <td>...</td>\n      <td>15854611.0</td>\n      <td>2501332.0</td>\n      <td>8198936.0</td>\n      <td>9656251.0</td>\n      <td>278082303.0</td>\n      <td>14344150.0</td>\n      <td>171744450.0</td>\n      <td>8814393.0</td>\n      <td>36749741.0</td>\n      <td>308879636.0</td>\n    </tr>\n    <tr>\n      <th>1</th>\n      <td>1.311448e+19</td>\n      <td>4/9/2019 13:04</td>\n      <td>235.0</td>\n      <td>4/25/2019 8:15</td>\n      <td>606.0</td>\n      <td>1365104.0</td>\n      <td>2.082019e+14</td>\n      <td>3.368185e+10</td>\n      <td>3.579401e+13</td>\n      <td>L77566A</td>\n      <td>...</td>\n      <td>20247395.0</td>\n      <td>19111729.0</td>\n      <td>18338413.0</td>\n      <td>17227132.0</td>\n      <td>608750074.0</td>\n      <td>1170709.0</td>\n      <td>526904238.0</td>\n      <td>15055145.0</td>\n      <td>53800391.0</td>\n      <td>653384965.0</td>\n    </tr>\n    <tr>\n      <th>2</th>\n      <td>1.311448e+19</td>\n      <td>4/9/2019 17:42</td>\n      <td>1.0</td>\n      <td>4/25/2019 11:58</td>\n      <td>652.0</td>\n      <td>1361762.0</td>\n      <td>2.082003e+14</td>\n      <td>3.376063e+10</td>\n      <td>3.528151e+13</td>\n      <td>D42335A</td>\n      <td>...</td>\n      <td>19725661.0</td>\n      <td>14699576.0</td>\n      <td>17587794.0</td>\n      <td>6163408.0</td>\n      <td>229584621.0</td>\n      <td>395630.0</td>\n      <td>410692588.0</td>\n      <td>4215763.0</td>\n      <td>27883638.0</td>\n      <td>279807335.0</td>\n    </tr>\n    <tr>\n      <th>3</th>\n      <td>1.311448e+19</td>\n      <td>4/10/2019 0:31</td>\n      <td>486.0</td>\n      <td>4/25/2019 7:36</td>\n      <td>171.0</td>\n      <td>1321509.0</td>\n      <td>2.082014e+14</td>\n      <td>3.375034e+10</td>\n      <td>3.535661e+13</td>\n      <td>T21824A</td>\n      <td>...</td>\n      <td>21388122.0</td>\n      <td>15146643.0</td>\n      <td>13994646.0</td>\n      <td>1097942.0</td>\n      <td>799538153.0</td>\n      <td>10849722.0</td>\n      <td>749039933.0</td>\n      <td>12797283.0</td>\n      <td>43324218.0</td>\n      <td>846028530.0</td>\n    </tr>\n    <tr>\n      <th>4</th>\n      <td>1.311448e+19</td>\n      <td>4/12/2019 20:10</td>\n      <td>565.0</td>\n      <td>4/25/2019 10:40</td>\n      <td>954.0</td>\n      <td>1089009.0</td>\n      <td>2.082014e+14</td>\n      <td>3.369980e+10</td>\n      <td>3.540701e+13</td>\n      <td>D88865A</td>\n      <td>...</td>\n      <td>15259380.0</td>\n      <td>18962873.0</td>\n      <td>17124581.0</td>\n      <td>415218.0</td>\n      <td>527707248.0</td>\n      <td>3529801.0</td>\n      <td>550709500.0</td>\n      <td>13910322.0</td>\n      <td>38542814.0</td>\n      <td>569138589.0</td>\n    </tr>\n  </tbody>\n</table>\n<p>5 rows × 55 columns</p>\n</div>"
          },
          "metadata": {},
          "execution_count": 7
        }
      ]
    },
    {
      "cell_type": "code",
      "metadata": {
        "id": "HN2mNEpLmUEf"
      },
      "source": [
        "# column names\n",
        "db.columns.tolist()"
      ],
      "execution_count": 26,
      "outputs": [
        {
          "output_type": "execute_result",
          "data": {
            "text/plain": [
              "['Bearer Id',\n",
              " 'Start',\n",
              " 'Start ms',\n",
              " 'End',\n",
              " 'End ms',\n",
              " 'Dur. (ms)',\n",
              " 'IMSI',\n",
              " 'MSISDN/Number',\n",
              " 'IMEI',\n",
              " 'Last Location Name',\n",
              " 'Avg RTT DL (ms)',\n",
              " 'Avg RTT UL (ms)',\n",
              " 'Avg Bearer TP DL (kbps)',\n",
              " 'Avg Bearer TP UL (kbps)',\n",
              " 'TCP DL Retrans. Vol (Bytes)',\n",
              " 'TCP UL Retrans. Vol (Bytes)',\n",
              " 'DL TP < 50 Kbps (%)',\n",
              " '50 Kbps < DL TP < 250 Kbps (%)',\n",
              " '250 Kbps < DL TP < 1 Mbps (%)',\n",
              " 'DL TP > 1 Mbps (%)',\n",
              " 'UL TP < 10 Kbps (%)',\n",
              " '10 Kbps < UL TP < 50 Kbps (%)',\n",
              " '50 Kbps < UL TP < 300 Kbps (%)',\n",
              " 'UL TP > 300 Kbps (%)',\n",
              " 'HTTP DL (Bytes)',\n",
              " 'HTTP UL (Bytes)',\n",
              " 'Activity Duration DL (ms)',\n",
              " 'Activity Duration UL (ms)',\n",
              " 'Dur. (ms).1',\n",
              " 'Handset Manufacturer',\n",
              " 'Handset Type',\n",
              " 'Nb of sec with 125000B < Vol DL',\n",
              " 'Nb of sec with 1250B < Vol UL < 6250B',\n",
              " 'Nb of sec with 31250B < Vol DL < 125000B',\n",
              " 'Nb of sec with 37500B < Vol UL',\n",
              " 'Nb of sec with 6250B < Vol DL < 31250B',\n",
              " 'Nb of sec with 6250B < Vol UL < 37500B',\n",
              " 'Nb of sec with Vol DL < 6250B',\n",
              " 'Nb of sec with Vol UL < 1250B',\n",
              " 'Social Media DL (Bytes)',\n",
              " 'Social Media UL (Bytes)',\n",
              " 'Google DL (Bytes)',\n",
              " 'Google UL (Bytes)',\n",
              " 'Email DL (Bytes)',\n",
              " 'Email UL (Bytes)',\n",
              " 'Youtube DL (Bytes)',\n",
              " 'Youtube UL (Bytes)',\n",
              " 'Netflix DL (Bytes)',\n",
              " 'Netflix UL (Bytes)',\n",
              " 'Gaming DL (Bytes)',\n",
              " 'Gaming UL (Bytes)',\n",
              " 'Other DL (Bytes)',\n",
              " 'Other UL (Bytes)',\n",
              " 'Total UL (Bytes)',\n",
              " 'Total DL (Bytes)']"
            ]
          },
          "metadata": {},
          "execution_count": 26
        }
      ]
    },
    {
      "source": [
        "EXPLORING THE DATAFRAME"
      ],
      "cell_type": "markdown",
      "metadata": {}
    },
    {
      "cell_type": "code",
      "execution_count": null,
      "metadata": {},
      "outputs": [],
      "source": [
        "# checking data types\n",
        "db.info()"
      ]
    },
    {
      "cell_type": "code",
      "execution_count": 8,
      "metadata": {},
      "outputs": [
        {
          "output_type": "stream",
          "name": "stdout",
          "text": [
            " There are 150001 rows and 55 columns\n"
          ]
        }
      ],
      "source": [
        "# number of data points\n",
        "print(f\" There are {db.shape[0]} rows and {db.shape[1]} columns\")"
      ]
    },
    {
      "cell_type": "code",
      "execution_count": null,
      "metadata": {},
      "outputs": [],
      "source": [
        "# Finding mode for manufacturer\n",
        "db.mode()['Handset Manufacturer'][0]"
      ]
    },
    {
      "cell_type": "code",
      "execution_count": null,
      "metadata": {},
      "outputs": [],
      "source": [
        "# Finding mode for handset type\n",
        "db.mode()['Handset Type'][0]"
      ]
    },
    {
      "cell_type": "code",
      "execution_count": 13,
      "metadata": {},
      "outputs": [
        {
          "output_type": "execute_result",
          "data": {
            "text/plain": [
              "count     149429\n",
              "unique       170\n",
              "top        Apple\n",
              "freq       59565\n",
              "Name: Handset Manufacturer, dtype: object"
            ]
          },
          "metadata": {},
          "execution_count": 13
        }
      ],
      "source": [
        "# selecting columns of interest\n",
        "manufacturer = db['Handset Manufacturer']\n",
        "manufacturer.head()\n",
        "manufacturer.describe()"
      ]
    },
    {
      "cell_type": "code",
      "execution_count": null,
      "metadata": {},
      "outputs": [],
      "source": [
        "# Getting top 10 handsets used by customers\n",
        "n = 10\n",
        "db['Handset Type'].value_counts()[:n].index.tolist()"
      ]
    },
    {
      "cell_type": "code",
      "execution_count": 17,
      "metadata": {},
      "outputs": [
        {
          "output_type": "execute_result",
          "data": {
            "text/plain": [
              "['Apple', 'Samsung', 'Huawei']"
            ]
          },
          "metadata": {},
          "execution_count": 17
        }
      ],
      "source": [
        "# Getting the top 3 handset manufacturers\n",
        "n = 3\n",
        "manufacturer.value_counts()[:n].index.tolist()"
      ]
    },
    {
      "cell_type": "code",
      "execution_count": 14,
      "metadata": {},
      "outputs": [
        {
          "output_type": "execute_result",
          "data": {
            "text/plain": [
              "count               149429\n",
              "unique                1396\n",
              "top       Huawei B528S-23A\n",
              "freq                 19752\n",
              "Name: Handset Type, dtype: object"
            ]
          },
          "metadata": {},
          "execution_count": 14
        }
      ],
      "source": [
        "mobitype = db['Handset Type']\n",
        "mobitype.head()\n",
        "mobitype.describe()"
      ]
    },
    {
      "cell_type": "code",
      "execution_count": 15,
      "metadata": {},
      "outputs": [
        {
          "output_type": "stream",
          "name": "stdout",
          "text": [
            "<class 'pandas.core.frame.DataFrame'>\nInt64Index: 59565 entries, 22 to 149998\nData columns (total 55 columns):\n #   Column                                    Non-Null Count  Dtype  \n---  ------                                    --------------  -----  \n 0   Bearer Id                                 59440 non-null  float64\n 1   Start                                     59565 non-null  object \n 2   Start ms                                  59565 non-null  float64\n 3   End                                       59565 non-null  object \n 4   End ms                                    59565 non-null  float64\n 5   Dur. (ms)                                 59565 non-null  float64\n 6   IMSI                                      59565 non-null  float64\n 7   MSISDN/Number                             59464 non-null  float64\n 8   IMEI                                      59565 non-null  float64\n 9   Last Location Name                        59405 non-null  object \n 10  Avg RTT DL (ms)                           58452 non-null  float64\n 11  Avg RTT UL (ms)                           58456 non-null  float64\n 12  Avg Bearer TP DL (kbps)                   59565 non-null  float64\n 13  Avg Bearer TP UL (kbps)                   59565 non-null  float64\n 14  TCP DL Retrans. Vol (Bytes)               15609 non-null  float64\n 15  TCP UL Retrans. Vol (Bytes)               13946 non-null  float64\n 16  DL TP < 50 Kbps (%)                       59419 non-null  float64\n 17  50 Kbps < DL TP < 250 Kbps (%)            59419 non-null  float64\n 18  250 Kbps < DL TP < 1 Mbps (%)             59419 non-null  float64\n 19  DL TP > 1 Mbps (%)                        59419 non-null  float64\n 20  UL TP < 10 Kbps (%)                       59475 non-null  float64\n 21  10 Kbps < UL TP < 50 Kbps (%)             59475 non-null  float64\n 22  50 Kbps < UL TP < 300 Kbps (%)            59475 non-null  float64\n 23  UL TP > 300 Kbps (%)                      59475 non-null  float64\n 24  HTTP DL (Bytes)                           17183 non-null  float64\n 25  HTTP UL (Bytes)                           17217 non-null  float64\n 26  Activity Duration DL (ms)                 59565 non-null  float64\n 27  Activity Duration UL (ms)                 59565 non-null  float64\n 28  Dur. (ms).1                               59565 non-null  float64\n 29  Handset Manufacturer                      59565 non-null  object \n 30  Handset Type                              59565 non-null  object \n 31  Nb of sec with 125000B < Vol DL           12848 non-null  float64\n 32  Nb of sec with 1250B < Vol UL < 6250B     14058 non-null  float64\n 33  Nb of sec with 31250B < Vol DL < 125000B  14262 non-null  float64\n 34  Nb of sec with 37500B < Vol UL            5280 non-null   float64\n 35  Nb of sec with 6250B < Vol DL < 31250B    15783 non-null  float64\n 36  Nb of sec with 6250B < Vol UL < 37500B    9224 non-null   float64\n 37  Nb of sec with Vol DL < 6250B             59419 non-null  float64\n 38  Nb of sec with Vol UL < 1250B             59475 non-null  float64\n 39  Social Media DL (Bytes)                   59565 non-null  float64\n 40  Social Media UL (Bytes)                   59565 non-null  float64\n 41  Google DL (Bytes)                         59565 non-null  float64\n 42  Google UL (Bytes)                         59565 non-null  float64\n 43  Email DL (Bytes)                          59565 non-null  float64\n 44  Email UL (Bytes)                          59565 non-null  float64\n 45  Youtube DL (Bytes)                        59565 non-null  float64\n 46  Youtube UL (Bytes)                        59565 non-null  float64\n 47  Netflix DL (Bytes)                        59565 non-null  float64\n 48  Netflix UL (Bytes)                        59565 non-null  float64\n 49  Gaming DL (Bytes)                         59565 non-null  float64\n 50  Gaming UL (Bytes)                         59565 non-null  float64\n 51  Other DL (Bytes)                          59565 non-null  float64\n 52  Other UL (Bytes)                          59565 non-null  float64\n 53  Total UL (Bytes)                          59565 non-null  float64\n 54  Total DL (Bytes)                          59565 non-null  float64\ndtypes: float64(50), object(5)\nmemory usage: 25.4+ MB\n"
          ]
        }
      ],
      "source": [
        "# Using logic on rows to select only rows with apple as manufacturer\n",
        "apple = db[manufacturer == 'Apple']\n",
        "apple.info()"
      ]
    },
    {
      "cell_type": "code",
      "execution_count": 16,
      "metadata": {},
      "outputs": [
        {
          "output_type": "execute_result",
          "data": {
            "text/plain": [
              "['Apple iPhone 6S (A1688)',\n",
              " 'Apple iPhone 6 (A1586)',\n",
              " 'Apple iPhone 7 (A1778)',\n",
              " 'Apple iPhone Se (A1723)',\n",
              " 'Apple iPhone 8 (A1905)']"
            ]
          },
          "metadata": {},
          "execution_count": 16
        }
      ],
      "source": [
        "# Getting the top 5 handset types in apple\n",
        "n = 5\n",
        "apple['Handset Type'].value_counts()[:n].index.tolist()"
      ]
    },
    {
      "cell_type": "code",
      "execution_count": 18,
      "metadata": {},
      "outputs": [
        {
          "output_type": "stream",
          "name": "stdout",
          "text": [
            "<class 'pandas.core.frame.DataFrame'>\nInt64Index: 40839 entries, 0 to 149994\nData columns (total 55 columns):\n #   Column                                    Non-Null Count  Dtype  \n---  ------                                    --------------  -----  \n 0   Bearer Id                                 40689 non-null  float64\n 1   Start                                     40839 non-null  object \n 2   Start ms                                  40839 non-null  float64\n 3   End                                       40839 non-null  object \n 4   End ms                                    40839 non-null  float64\n 5   Dur. (ms)                                 40839 non-null  float64\n 6   IMSI                                      40839 non-null  float64\n 7   MSISDN/Number                             40579 non-null  float64\n 8   IMEI                                      40839 non-null  float64\n 9   Last Location Name                        40652 non-null  object \n 10  Avg RTT DL (ms)                           19571 non-null  float64\n 11  Avg RTT UL (ms)                           19577 non-null  float64\n 12  Avg Bearer TP DL (kbps)                   40839 non-null  float64\n 13  Avg Bearer TP UL (kbps)                   40839 non-null  float64\n 14  TCP DL Retrans. Vol (Bytes)               14130 non-null  float64\n 15  TCP UL Retrans. Vol (Bytes)               10812 non-null  float64\n 16  DL TP < 50 Kbps (%)                       40452 non-null  float64\n 17  50 Kbps < DL TP < 250 Kbps (%)            40452 non-null  float64\n 18  250 Kbps < DL TP < 1 Mbps (%)             40452 non-null  float64\n 19  DL TP > 1 Mbps (%)                        40452 non-null  float64\n 20  UL TP < 10 Kbps (%)                       40722 non-null  float64\n 21  10 Kbps < UL TP < 50 Kbps (%)             40722 non-null  float64\n 22  50 Kbps < UL TP < 300 Kbps (%)            40722 non-null  float64\n 23  UL TP > 300 Kbps (%)                      40722 non-null  float64\n 24  HTTP DL (Bytes)                           15982 non-null  float64\n 25  HTTP UL (Bytes)                           16027 non-null  float64\n 26  Activity Duration DL (ms)                 40839 non-null  float64\n 27  Activity Duration UL (ms)                 40839 non-null  float64\n 28  Dur. (ms).1                               40839 non-null  float64\n 29  Handset Manufacturer                      40839 non-null  object \n 30  Handset Type                              40839 non-null  object \n 31  Nb of sec with 125000B < Vol DL           10915 non-null  float64\n 32  Nb of sec with 1250B < Vol UL < 6250B     12794 non-null  float64\n 33  Nb of sec with 31250B < Vol DL < 125000B  12224 non-null  float64\n 34  Nb of sec with 37500B < Vol UL            2514 non-null   float64\n 35  Nb of sec with 6250B < Vol DL < 31250B    14163 non-null  float64\n 36  Nb of sec with 6250B < Vol UL < 37500B    6737 non-null   float64\n 37  Nb of sec with Vol DL < 6250B             40452 non-null  float64\n 38  Nb of sec with Vol UL < 1250B             40722 non-null  float64\n 39  Social Media DL (Bytes)                   40839 non-null  float64\n 40  Social Media UL (Bytes)                   40839 non-null  float64\n 41  Google DL (Bytes)                         40839 non-null  float64\n 42  Google UL (Bytes)                         40839 non-null  float64\n 43  Email DL (Bytes)                          40839 non-null  float64\n 44  Email UL (Bytes)                          40839 non-null  float64\n 45  Youtube DL (Bytes)                        40839 non-null  float64\n 46  Youtube UL (Bytes)                        40839 non-null  float64\n 47  Netflix DL (Bytes)                        40839 non-null  float64\n 48  Netflix UL (Bytes)                        40839 non-null  float64\n 49  Gaming DL (Bytes)                         40839 non-null  float64\n 50  Gaming UL (Bytes)                         40839 non-null  float64\n 51  Other DL (Bytes)                          40839 non-null  float64\n 52  Other UL (Bytes)                          40839 non-null  float64\n 53  Total UL (Bytes)                          40839 non-null  float64\n 54  Total DL (Bytes)                          40839 non-null  float64\ndtypes: float64(50), object(5)\nmemory usage: 17.4+ MB\n"
          ]
        }
      ],
      "source": [
        "# Using logic on rows to select only rows with samsung as manufacturer\n",
        "samsung = db[manufacturer == 'Samsung']\n",
        "samsung.info()"
      ]
    },
    {
      "cell_type": "code",
      "execution_count": 57,
      "metadata": {},
      "outputs": [
        {
          "output_type": "execute_result",
          "data": {
            "text/plain": [
              "['Samsung Galaxy S8 (Sm-G950F)',\n",
              " 'Samsung Galaxy A5 Sm-A520F',\n",
              " 'Samsung Galaxy J5 (Sm-J530)',\n",
              " 'Samsung Galaxy J3 (Sm-J330)',\n",
              " 'Samsung Galaxy S7 (Sm-G930X)']"
            ]
          },
          "metadata": {},
          "execution_count": 57
        }
      ],
      "source": [
        "# Getting the top 5 handset types in samsung\n",
        "n = 5\n",
        "samsung['Handset Type'].value_counts()[:n].index.tolist()"
      ]
    },
    {
      "cell_type": "code",
      "execution_count": 20,
      "metadata": {},
      "outputs": [
        {
          "output_type": "stream",
          "name": "stdout",
          "text": [
            "<class 'pandas.core.frame.DataFrame'>\nInt64Index: 34423 entries, 6 to 149999\nData columns (total 55 columns):\n #   Column                                    Non-Null Count  Dtype  \n---  ------                                    --------------  -----  \n 0   Bearer Id                                 34353 non-null  float64\n 1   Start                                     34423 non-null  object \n 2   Start ms                                  34423 non-null  float64\n 3   End                                       34423 non-null  object \n 4   End ms                                    34423 non-null  float64\n 5   Dur. (ms)                                 34423 non-null  float64\n 6   IMSI                                      34423 non-null  float64\n 7   MSISDN/Number                             34366 non-null  float64\n 8   IMEI                                      34423 non-null  float64\n 9   Last Location Name                        34326 non-null  object \n 10  Avg RTT DL (ms)                           33453 non-null  float64\n 11  Avg RTT UL (ms)                           33457 non-null  float64\n 12  Avg Bearer TP DL (kbps)                   34423 non-null  float64\n 13  Avg Bearer TP UL (kbps)                   34423 non-null  float64\n 14  TCP DL Retrans. Vol (Bytes)               25282 non-null  float64\n 15  TCP UL Retrans. Vol (Bytes)               23064 non-null  float64\n 16  DL TP < 50 Kbps (%)                       34394 non-null  float64\n 17  50 Kbps < DL TP < 250 Kbps (%)            34394 non-null  float64\n 18  250 Kbps < DL TP < 1 Mbps (%)             34394 non-null  float64\n 19  DL TP > 1 Mbps (%)                        34394 non-null  float64\n 20  UL TP < 10 Kbps (%)                       33932 non-null  float64\n 21  10 Kbps < UL TP < 50 Kbps (%)             33932 non-null  float64\n 22  50 Kbps < UL TP < 300 Kbps (%)            33932 non-null  float64\n 23  UL TP > 300 Kbps (%)                      33932 non-null  float64\n 24  HTTP DL (Bytes)                           27222 non-null  float64\n 25  HTTP UL (Bytes)                           26790 non-null  float64\n 26  Activity Duration DL (ms)                 34423 non-null  float64\n 27  Activity Duration UL (ms)                 34423 non-null  float64\n 28  Dur. (ms).1                               34423 non-null  float64\n 29  Handset Manufacturer                      34423 non-null  object \n 30  Handset Type                              34423 non-null  object \n 31  Nb of sec with 125000B < Vol DL           23742 non-null  float64\n 32  Nb of sec with 1250B < Vol UL < 6250B     24480 non-null  float64\n 33  Nb of sec with 31250B < Vol DL < 125000B  24350 non-null  float64\n 34  Nb of sec with 37500B < Vol UL            10890 non-null  float64\n 35  Nb of sec with 6250B < Vol DL < 31250B    25175 non-null  float64\n 36  Nb of sec with 6250B < Vol UL < 37500B    19385 non-null  float64\n 37  Nb of sec with Vol DL < 6250B             34394 non-null  float64\n 38  Nb of sec with Vol UL < 1250B             33932 non-null  float64\n 39  Social Media DL (Bytes)                   34423 non-null  float64\n 40  Social Media UL (Bytes)                   34423 non-null  float64\n 41  Google DL (Bytes)                         34423 non-null  float64\n 42  Google UL (Bytes)                         34423 non-null  float64\n 43  Email DL (Bytes)                          34423 non-null  float64\n 44  Email UL (Bytes)                          34423 non-null  float64\n 45  Youtube DL (Bytes)                        34423 non-null  float64\n 46  Youtube UL (Bytes)                        34423 non-null  float64\n 47  Netflix DL (Bytes)                        34423 non-null  float64\n 48  Netflix UL (Bytes)                        34423 non-null  float64\n 49  Gaming DL (Bytes)                         34423 non-null  float64\n 50  Gaming UL (Bytes)                         34423 non-null  float64\n 51  Other DL (Bytes)                          34423 non-null  float64\n 52  Other UL (Bytes)                          34423 non-null  float64\n 53  Total UL (Bytes)                          34423 non-null  float64\n 54  Total DL (Bytes)                          34423 non-null  float64\ndtypes: float64(50), object(5)\nmemory usage: 14.7+ MB\n"
          ]
        }
      ],
      "source": [
        "# Using logic on rows to select only rows with huawei as manufacturer\n",
        "huawei = db[manufacturer == 'Huawei']\n",
        "huawei.info()"
      ]
    },
    {
      "cell_type": "code",
      "execution_count": 21,
      "metadata": {},
      "outputs": [
        {
          "output_type": "execute_result",
          "data": {
            "text/plain": [
              "['Huawei B528S-23A',\n",
              " 'Huawei E5180',\n",
              " 'Huawei P20 Lite Huawei Nova 3E',\n",
              " 'Huawei P20',\n",
              " 'Huawei Y6 2018']"
            ]
          },
          "metadata": {},
          "execution_count": 21
        }
      ],
      "source": [
        "# Getting the top 5 handset types in huawei\n",
        "n = 5\n",
        "huawei['Handset Type'].value_counts()[:n].index.tolist()"
      ]
    },
    {
      "source": [
        "INTEPRETATION AND RECOMMENDATION\n",
        "\n",
        "The top 3 phone manufactures by users are Apple(59565), Samsung(40839), and Huawei(34423). Marketing campaigns can therefore target these users and especially with the following handset types: \n",
        "Apple iPhone 6S (A1688), Apple iPhone 6 (A1586), Apple iPhone 7 (A1778), Apple iPhone Se (A1723), Apple iPhone 8 (A1905), Samsung Galaxy S8 (Sm-G950F), Samsung Galaxy A5 Sm-A520F, Samsung Galaxy J5 (Sm-J530), Samsung Galaxy J3 (Sm-J330), Samsung Galaxy S7 (Sm-G930X), Huawei B528S-23A, Huawei E5180, Huawei P20 Lite Huawei Nova 3E, Huawei P20, Huawei Y6 2018."
      ],
      "cell_type": "markdown",
      "metadata": {}
    },
    {
      "source": [
        "ASSIGNMENT 1.1"
      ],
      "cell_type": "markdown",
      "metadata": {}
    },
    {
      "source": [
        "Transforming the Data (Cleaning, Missing Values)"
      ],
      "cell_type": "markdown",
      "metadata": {}
    },
    {
      "cell_type": "code",
      "execution_count": 23,
      "metadata": {},
      "outputs": [
        {
          "output_type": "execute_result",
          "data": {
            "text/plain": [
              "          Bearer Id       Start ms         End ms     Dur. (ms)          IMSI  \\\n",
              "count  1.490100e+05  150000.000000  150000.000000  1.500000e+05  1.494310e+05   \n",
              "mean   1.013887e+19     499.188200     498.800880  1.046086e+05  2.082016e+14   \n",
              "std    2.893173e+18     288.611834     288.097653  8.103762e+04  2.148809e+10   \n",
              "min    6.917538e+18       0.000000       0.000000  7.142000e+03  2.040471e+14   \n",
              "25%    7.349883e+18     250.000000     251.000000  5.744050e+04  2.082014e+14   \n",
              "50%    7.349883e+18     499.000000     500.000000  8.639900e+04  2.082015e+14   \n",
              "75%    1.304243e+19     749.000000     750.000000  1.324302e+05  2.082018e+14   \n",
              "max    1.318654e+19     999.000000     999.000000  1.859336e+06  2.140743e+14   \n",
              "\n",
              "       MSISDN/Number          IMEI  Avg RTT DL (ms)  Avg RTT UL (ms)  \\\n",
              "count   1.489350e+05  1.494290e+05    122172.000000    122189.000000   \n",
              "mean    4.188282e+10  4.847455e+13       109.795706        17.662883   \n",
              "std     2.447443e+12  2.241637e+13       619.782739        84.793524   \n",
              "min     3.360100e+10  4.400152e+11         0.000000         0.000000   \n",
              "25%     3.365130e+10  3.546071e+13        32.000000         2.000000   \n",
              "50%     3.366371e+10  3.572201e+13        45.000000         5.000000   \n",
              "75%     3.368349e+10  8.611970e+13        70.000000        15.000000   \n",
              "max     8.823971e+14  9.900120e+13     96923.000000      7120.000000   \n",
              "\n",
              "       Avg Bearer TP DL (kbps)  ...  Youtube DL (Bytes)  Youtube UL (Bytes)  \\\n",
              "count            150000.000000  ...        1.500010e+05        1.500010e+05   \n",
              "mean              13300.045927  ...        1.163407e+07        1.100941e+07   \n",
              "std               23971.878541  ...        6.710569e+06        6.345423e+06   \n",
              "min                   0.000000  ...        5.300000e+01        1.050000e+02   \n",
              "25%                  43.000000  ...        5.833501e+06        5.517965e+06   \n",
              "50%                  63.000000  ...        1.161602e+07        1.101345e+07   \n",
              "75%               19710.750000  ...        1.744852e+07        1.651556e+07   \n",
              "max              378160.000000  ...        2.325910e+07        2.201196e+07   \n",
              "\n",
              "       Netflix DL (Bytes)  Netflix UL (Bytes)  Gaming DL (Bytes)  \\\n",
              "count        1.500010e+05        1.500010e+05       1.500010e+05   \n",
              "mean         1.162685e+07        1.100175e+07       4.220447e+08   \n",
              "std          6.725218e+06        6.359490e+06       2.439675e+08   \n",
              "min          4.200000e+01        3.500000e+01       2.516000e+03   \n",
              "25%          5.777156e+06        5.475981e+06       2.104733e+08   \n",
              "50%          1.164222e+07        1.099638e+07       4.234081e+08   \n",
              "75%          1.747048e+07        1.650727e+07       6.331742e+08   \n",
              "max          2.325919e+07        2.201196e+07       8.434419e+08   \n",
              "\n",
              "       Gaming UL (Bytes)  Other DL (Bytes)  Other UL (Bytes)  \\\n",
              "count       1.500010e+05      1.500010e+05      1.500010e+05   \n",
              "mean        8.288398e+06      4.211005e+08      8.264799e+06   \n",
              "std         4.782700e+06      2.432050e+08      4.769004e+06   \n",
              "min         5.900000e+01      3.290000e+03      1.480000e+02   \n",
              "25%         4.128476e+06      2.101869e+08      4.145943e+06   \n",
              "50%         8.291208e+06      4.218030e+08      8.267071e+06   \n",
              "75%         1.243162e+07      6.316918e+08      1.238415e+07   \n",
              "max         1.655879e+07      8.434425e+08      1.655882e+07   \n",
              "\n",
              "       Total UL (Bytes)  Total DL (Bytes)  \n",
              "count      1.500000e+05      1.500000e+05  \n",
              "mean       4.112121e+07      4.546434e+08  \n",
              "std        1.127639e+07      2.441429e+08  \n",
              "min        2.866892e+06      7.114041e+06  \n",
              "25%        3.322201e+07      2.431068e+08  \n",
              "50%        4.114331e+07      4.558411e+08  \n",
              "75%        4.903424e+07      6.657055e+08  \n",
              "max        7.833131e+07      9.029696e+08  \n",
              "\n",
              "[8 rows x 50 columns]"
            ],
            "text/html": "<div>\n<style scoped>\n    .dataframe tbody tr th:only-of-type {\n        vertical-align: middle;\n    }\n\n    .dataframe tbody tr th {\n        vertical-align: top;\n    }\n\n    .dataframe thead th {\n        text-align: right;\n    }\n</style>\n<table border=\"1\" class=\"dataframe\">\n  <thead>\n    <tr style=\"text-align: right;\">\n      <th></th>\n      <th>Bearer Id</th>\n      <th>Start ms</th>\n      <th>End ms</th>\n      <th>Dur. (ms)</th>\n      <th>IMSI</th>\n      <th>MSISDN/Number</th>\n      <th>IMEI</th>\n      <th>Avg RTT DL (ms)</th>\n      <th>Avg RTT UL (ms)</th>\n      <th>Avg Bearer TP DL (kbps)</th>\n      <th>...</th>\n      <th>Youtube DL (Bytes)</th>\n      <th>Youtube UL (Bytes)</th>\n      <th>Netflix DL (Bytes)</th>\n      <th>Netflix UL (Bytes)</th>\n      <th>Gaming DL (Bytes)</th>\n      <th>Gaming UL (Bytes)</th>\n      <th>Other DL (Bytes)</th>\n      <th>Other UL (Bytes)</th>\n      <th>Total UL (Bytes)</th>\n      <th>Total DL (Bytes)</th>\n    </tr>\n  </thead>\n  <tbody>\n    <tr>\n      <th>count</th>\n      <td>1.490100e+05</td>\n      <td>150000.000000</td>\n      <td>150000.000000</td>\n      <td>1.500000e+05</td>\n      <td>1.494310e+05</td>\n      <td>1.489350e+05</td>\n      <td>1.494290e+05</td>\n      <td>122172.000000</td>\n      <td>122189.000000</td>\n      <td>150000.000000</td>\n      <td>...</td>\n      <td>1.500010e+05</td>\n      <td>1.500010e+05</td>\n      <td>1.500010e+05</td>\n      <td>1.500010e+05</td>\n      <td>1.500010e+05</td>\n      <td>1.500010e+05</td>\n      <td>1.500010e+05</td>\n      <td>1.500010e+05</td>\n      <td>1.500000e+05</td>\n      <td>1.500000e+05</td>\n    </tr>\n    <tr>\n      <th>mean</th>\n      <td>1.013887e+19</td>\n      <td>499.188200</td>\n      <td>498.800880</td>\n      <td>1.046086e+05</td>\n      <td>2.082016e+14</td>\n      <td>4.188282e+10</td>\n      <td>4.847455e+13</td>\n      <td>109.795706</td>\n      <td>17.662883</td>\n      <td>13300.045927</td>\n      <td>...</td>\n      <td>1.163407e+07</td>\n      <td>1.100941e+07</td>\n      <td>1.162685e+07</td>\n      <td>1.100175e+07</td>\n      <td>4.220447e+08</td>\n      <td>8.288398e+06</td>\n      <td>4.211005e+08</td>\n      <td>8.264799e+06</td>\n      <td>4.112121e+07</td>\n      <td>4.546434e+08</td>\n    </tr>\n    <tr>\n      <th>std</th>\n      <td>2.893173e+18</td>\n      <td>288.611834</td>\n      <td>288.097653</td>\n      <td>8.103762e+04</td>\n      <td>2.148809e+10</td>\n      <td>2.447443e+12</td>\n      <td>2.241637e+13</td>\n      <td>619.782739</td>\n      <td>84.793524</td>\n      <td>23971.878541</td>\n      <td>...</td>\n      <td>6.710569e+06</td>\n      <td>6.345423e+06</td>\n      <td>6.725218e+06</td>\n      <td>6.359490e+06</td>\n      <td>2.439675e+08</td>\n      <td>4.782700e+06</td>\n      <td>2.432050e+08</td>\n      <td>4.769004e+06</td>\n      <td>1.127639e+07</td>\n      <td>2.441429e+08</td>\n    </tr>\n    <tr>\n      <th>min</th>\n      <td>6.917538e+18</td>\n      <td>0.000000</td>\n      <td>0.000000</td>\n      <td>7.142000e+03</td>\n      <td>2.040471e+14</td>\n      <td>3.360100e+10</td>\n      <td>4.400152e+11</td>\n      <td>0.000000</td>\n      <td>0.000000</td>\n      <td>0.000000</td>\n      <td>...</td>\n      <td>5.300000e+01</td>\n      <td>1.050000e+02</td>\n      <td>4.200000e+01</td>\n      <td>3.500000e+01</td>\n      <td>2.516000e+03</td>\n      <td>5.900000e+01</td>\n      <td>3.290000e+03</td>\n      <td>1.480000e+02</td>\n      <td>2.866892e+06</td>\n      <td>7.114041e+06</td>\n    </tr>\n    <tr>\n      <th>25%</th>\n      <td>7.349883e+18</td>\n      <td>250.000000</td>\n      <td>251.000000</td>\n      <td>5.744050e+04</td>\n      <td>2.082014e+14</td>\n      <td>3.365130e+10</td>\n      <td>3.546071e+13</td>\n      <td>32.000000</td>\n      <td>2.000000</td>\n      <td>43.000000</td>\n      <td>...</td>\n      <td>5.833501e+06</td>\n      <td>5.517965e+06</td>\n      <td>5.777156e+06</td>\n      <td>5.475981e+06</td>\n      <td>2.104733e+08</td>\n      <td>4.128476e+06</td>\n      <td>2.101869e+08</td>\n      <td>4.145943e+06</td>\n      <td>3.322201e+07</td>\n      <td>2.431068e+08</td>\n    </tr>\n    <tr>\n      <th>50%</th>\n      <td>7.349883e+18</td>\n      <td>499.000000</td>\n      <td>500.000000</td>\n      <td>8.639900e+04</td>\n      <td>2.082015e+14</td>\n      <td>3.366371e+10</td>\n      <td>3.572201e+13</td>\n      <td>45.000000</td>\n      <td>5.000000</td>\n      <td>63.000000</td>\n      <td>...</td>\n      <td>1.161602e+07</td>\n      <td>1.101345e+07</td>\n      <td>1.164222e+07</td>\n      <td>1.099638e+07</td>\n      <td>4.234081e+08</td>\n      <td>8.291208e+06</td>\n      <td>4.218030e+08</td>\n      <td>8.267071e+06</td>\n      <td>4.114331e+07</td>\n      <td>4.558411e+08</td>\n    </tr>\n    <tr>\n      <th>75%</th>\n      <td>1.304243e+19</td>\n      <td>749.000000</td>\n      <td>750.000000</td>\n      <td>1.324302e+05</td>\n      <td>2.082018e+14</td>\n      <td>3.368349e+10</td>\n      <td>8.611970e+13</td>\n      <td>70.000000</td>\n      <td>15.000000</td>\n      <td>19710.750000</td>\n      <td>...</td>\n      <td>1.744852e+07</td>\n      <td>1.651556e+07</td>\n      <td>1.747048e+07</td>\n      <td>1.650727e+07</td>\n      <td>6.331742e+08</td>\n      <td>1.243162e+07</td>\n      <td>6.316918e+08</td>\n      <td>1.238415e+07</td>\n      <td>4.903424e+07</td>\n      <td>6.657055e+08</td>\n    </tr>\n    <tr>\n      <th>max</th>\n      <td>1.318654e+19</td>\n      <td>999.000000</td>\n      <td>999.000000</td>\n      <td>1.859336e+06</td>\n      <td>2.140743e+14</td>\n      <td>8.823971e+14</td>\n      <td>9.900120e+13</td>\n      <td>96923.000000</td>\n      <td>7120.000000</td>\n      <td>378160.000000</td>\n      <td>...</td>\n      <td>2.325910e+07</td>\n      <td>2.201196e+07</td>\n      <td>2.325919e+07</td>\n      <td>2.201196e+07</td>\n      <td>8.434419e+08</td>\n      <td>1.655879e+07</td>\n      <td>8.434425e+08</td>\n      <td>1.655882e+07</td>\n      <td>7.833131e+07</td>\n      <td>9.029696e+08</td>\n    </tr>\n  </tbody>\n</table>\n<p>8 rows × 50 columns</p>\n</div>"
          },
          "metadata": {},
          "execution_count": 23
        }
      ],
      "source": [
        "# summary statistics\n",
        "db.describe()"
      ]
    },
    {
      "cell_type": "code",
      "execution_count": 22,
      "metadata": {},
      "outputs": [
        {
          "output_type": "stream",
          "name": "stdout",
          "text": [
            "<class 'pandas.core.frame.DataFrame'>\nRangeIndex: 150001 entries, 0 to 150000\nData columns (total 55 columns):\n #   Column                                    Non-Null Count   Dtype  \n---  ------                                    --------------   -----  \n 0   Bearer Id                                 149010 non-null  float64\n 1   Start                                     150000 non-null  object \n 2   Start ms                                  150000 non-null  float64\n 3   End                                       150000 non-null  object \n 4   End ms                                    150000 non-null  float64\n 5   Dur. (ms)                                 150000 non-null  float64\n 6   IMSI                                      149431 non-null  float64\n 7   MSISDN/Number                             148935 non-null  float64\n 8   IMEI                                      149429 non-null  float64\n 9   Last Location Name                        148848 non-null  object \n 10  Avg RTT DL (ms)                           122172 non-null  float64\n 11  Avg RTT UL (ms)                           122189 non-null  float64\n 12  Avg Bearer TP DL (kbps)                   150000 non-null  float64\n 13  Avg Bearer TP UL (kbps)                   150000 non-null  float64\n 14  TCP DL Retrans. Vol (Bytes)               61855 non-null   float64\n 15  TCP UL Retrans. Vol (Bytes)               53352 non-null   float64\n 16  DL TP < 50 Kbps (%)                       149247 non-null  float64\n 17  50 Kbps < DL TP < 250 Kbps (%)            149247 non-null  float64\n 18  250 Kbps < DL TP < 1 Mbps (%)             149247 non-null  float64\n 19  DL TP > 1 Mbps (%)                        149247 non-null  float64\n 20  UL TP < 10 Kbps (%)                       149209 non-null  float64\n 21  10 Kbps < UL TP < 50 Kbps (%)             149209 non-null  float64\n 22  50 Kbps < UL TP < 300 Kbps (%)            149209 non-null  float64\n 23  UL TP > 300 Kbps (%)                      149209 non-null  float64\n 24  HTTP DL (Bytes)                           68527 non-null   float64\n 25  HTTP UL (Bytes)                           68191 non-null   float64\n 26  Activity Duration DL (ms)                 150000 non-null  float64\n 27  Activity Duration UL (ms)                 150000 non-null  float64\n 28  Dur. (ms).1                               150000 non-null  float64\n 29  Handset Manufacturer                      149429 non-null  object \n 30  Handset Type                              149429 non-null  object \n 31  Nb of sec with 125000B < Vol DL           52463 non-null   float64\n 32  Nb of sec with 1250B < Vol UL < 6250B     57107 non-null   float64\n 33  Nb of sec with 31250B < Vol DL < 125000B  56415 non-null   float64\n 34  Nb of sec with 37500B < Vol UL            19747 non-null   float64\n 35  Nb of sec with 6250B < Vol DL < 31250B    61684 non-null   float64\n 36  Nb of sec with 6250B < Vol UL < 37500B    38158 non-null   float64\n 37  Nb of sec with Vol DL < 6250B             149246 non-null  float64\n 38  Nb of sec with Vol UL < 1250B             149208 non-null  float64\n 39  Social Media DL (Bytes)                   150001 non-null  float64\n 40  Social Media UL (Bytes)                   150001 non-null  float64\n 41  Google DL (Bytes)                         150001 non-null  float64\n 42  Google UL (Bytes)                         150001 non-null  float64\n 43  Email DL (Bytes)                          150001 non-null  float64\n 44  Email UL (Bytes)                          150001 non-null  float64\n 45  Youtube DL (Bytes)                        150001 non-null  float64\n 46  Youtube UL (Bytes)                        150001 non-null  float64\n 47  Netflix DL (Bytes)                        150001 non-null  float64\n 48  Netflix UL (Bytes)                        150001 non-null  float64\n 49  Gaming DL (Bytes)                         150001 non-null  float64\n 50  Gaming UL (Bytes)                         150001 non-null  float64\n 51  Other DL (Bytes)                          150001 non-null  float64\n 52  Other UL (Bytes)                          150001 non-null  float64\n 53  Total UL (Bytes)                          150000 non-null  float64\n 54  Total DL (Bytes)                          150000 non-null  float64\ndtypes: float64(50), object(5)\nmemory usage: 62.9+ MB\n"
          ]
        }
      ],
      "source": [
        "# checking data types\n",
        "db.info()"
      ]
    },
    {
      "cell_type": "code",
      "execution_count": 29,
      "metadata": {},
      "outputs": [
        {
          "output_type": "execute_result",
          "data": {
            "text/plain": [
              "['Bearer Id',\n",
              " 'Start',\n",
              " 'Start ms',\n",
              " 'End',\n",
              " 'End ms',\n",
              " 'Dur. (ms)',\n",
              " 'IMSI',\n",
              " 'MSISDN/Number',\n",
              " 'IMEI',\n",
              " 'Last Location Name',\n",
              " 'Avg RTT DL (ms)',\n",
              " 'Avg RTT UL (ms)',\n",
              " 'Avg Bearer TP DL (kbps)',\n",
              " 'Avg Bearer TP UL (kbps)',\n",
              " 'DL TP < 50 Kbps (%)',\n",
              " '50 Kbps < DL TP < 250 Kbps (%)',\n",
              " '250 Kbps < DL TP < 1 Mbps (%)',\n",
              " 'DL TP > 1 Mbps (%)',\n",
              " 'UL TP < 10 Kbps (%)',\n",
              " '10 Kbps < UL TP < 50 Kbps (%)',\n",
              " '50 Kbps < UL TP < 300 Kbps (%)',\n",
              " 'UL TP > 300 Kbps (%)',\n",
              " 'Activity Duration DL (ms)',\n",
              " 'Activity Duration UL (ms)',\n",
              " 'Dur. (ms).1',\n",
              " 'Handset Manufacturer',\n",
              " 'Handset Type',\n",
              " 'Nb of sec with Vol DL < 6250B',\n",
              " 'Nb of sec with Vol UL < 1250B',\n",
              " 'Social Media DL (Bytes)',\n",
              " 'Social Media UL (Bytes)',\n",
              " 'Google DL (Bytes)',\n",
              " 'Google UL (Bytes)',\n",
              " 'Email DL (Bytes)',\n",
              " 'Email UL (Bytes)',\n",
              " 'Youtube DL (Bytes)',\n",
              " 'Youtube UL (Bytes)',\n",
              " 'Netflix DL (Bytes)',\n",
              " 'Netflix UL (Bytes)',\n",
              " 'Gaming DL (Bytes)',\n",
              " 'Gaming UL (Bytes)',\n",
              " 'Other DL (Bytes)',\n",
              " 'Other UL (Bytes)',\n",
              " 'Total UL (Bytes)',\n",
              " 'Total DL (Bytes)']"
            ]
          },
          "metadata": {},
          "execution_count": 29
        }
      ],
      "source": [
        "df_clean.columns.tolist()"
      ]
    },
    {
      "cell_type": "code",
      "execution_count": 24,
      "metadata": {},
      "outputs": [
        {
          "output_type": "stream",
          "name": "stdout",
          "text": [
            "The Telcom dataset contains 12.5 % missing values.\n"
          ]
        }
      ],
      "source": [
        "# how many missing values exist or better still what is the % of missing values in the dataset?\n",
        "def percent_missing(df):\n",
        "\n",
        "    # Calculate total number of cells in dataframe\n",
        "    totalCells = np.product(df.shape)\n",
        "\n",
        "    # Count number of missing values per column\n",
        "    missingCount = df.isnull().sum()\n",
        "\n",
        "    # Calculate total number of missing values\n",
        "    totalMissing = missingCount.sum()\n",
        "\n",
        "    # Calculate percentage of missing values\n",
        "    print(\"The Telcom dataset contains\", round(((totalMissing/totalCells) * 100), 2), \"%\", \"missing values.\")\n",
        "\n",
        "percent_missing(db)"
      ]
    },
    {
      "cell_type": "code",
      "execution_count": 10,
      "metadata": {},
      "outputs": [
        {
          "output_type": "execute_result",
          "data": {
            "text/plain": [
              "Bearer Id                                      991\n",
              "Start                                            1\n",
              "Start ms                                         1\n",
              "End                                              1\n",
              "End ms                                           1\n",
              "Dur. (ms)                                        1\n",
              "IMSI                                           570\n",
              "MSISDN/Number                                 1066\n",
              "IMEI                                           572\n",
              "Last Location Name                            1153\n",
              "Avg RTT DL (ms)                              27829\n",
              "Avg RTT UL (ms)                              27812\n",
              "Avg Bearer TP DL (kbps)                          1\n",
              "Avg Bearer TP UL (kbps)                          1\n",
              "TCP DL Retrans. Vol (Bytes)                  88146\n",
              "TCP UL Retrans. Vol (Bytes)                  96649\n",
              "DL TP < 50 Kbps (%)                            754\n",
              "50 Kbps < DL TP < 250 Kbps (%)                 754\n",
              "250 Kbps < DL TP < 1 Mbps (%)                  754\n",
              "DL TP > 1 Mbps (%)                             754\n",
              "UL TP < 10 Kbps (%)                            792\n",
              "10 Kbps < UL TP < 50 Kbps (%)                  792\n",
              "50 Kbps < UL TP < 300 Kbps (%)                 792\n",
              "UL TP > 300 Kbps (%)                           792\n",
              "HTTP DL (Bytes)                              81474\n",
              "HTTP UL (Bytes)                              81810\n",
              "Activity Duration DL (ms)                        1\n",
              "Activity Duration UL (ms)                        1\n",
              "Dur. (ms).1                                      1\n",
              "Handset Manufacturer                           572\n",
              "Handset Type                                   572\n",
              "Nb of sec with 125000B < Vol DL              97538\n",
              "Nb of sec with 1250B < Vol UL < 6250B        92894\n",
              "Nb of sec with 31250B < Vol DL < 125000B     93586\n",
              "Nb of sec with 37500B < Vol UL              130254\n",
              "Nb of sec with 6250B < Vol DL < 31250B       88317\n",
              "Nb of sec with 6250B < Vol UL < 37500B      111843\n",
              "Nb of sec with Vol DL < 6250B                  755\n",
              "Nb of sec with Vol UL < 1250B                  793\n",
              "Social Media DL (Bytes)                          0\n",
              "Social Media UL (Bytes)                          0\n",
              "Google DL (Bytes)                                0\n",
              "Google UL (Bytes)                                0\n",
              "Email DL (Bytes)                                 0\n",
              "Email UL (Bytes)                                 0\n",
              "Youtube DL (Bytes)                               0\n",
              "Youtube UL (Bytes)                               0\n",
              "Netflix DL (Bytes)                               0\n",
              "Netflix UL (Bytes)                               0\n",
              "Gaming DL (Bytes)                                0\n",
              "Gaming UL (Bytes)                                0\n",
              "Other DL (Bytes)                                 0\n",
              "Other UL (Bytes)                                 0\n",
              "Total UL (Bytes)                                 1\n",
              "Total DL (Bytes)                                 1\n",
              "dtype: int64"
            ]
          },
          "metadata": {},
          "execution_count": 10
        }
      ],
      "source": [
        "# Checking for missing values\n",
        "db.isna().sum()"
      ]
    },
    {
      "cell_type": "code",
      "execution_count": 27,
      "metadata": {},
      "outputs": [
        {
          "output_type": "execute_result",
          "data": {
            "text/plain": [
              "(150001, 45)"
            ]
          },
          "metadata": {},
          "execution_count": 27
        }
      ],
      "source": [
        "# drop columns with more than 30% missing values since filling this will greatly affect the dataset\n",
        "df_clean = db.drop(['TCP DL Retrans. Vol (Bytes)', 'TCP UL Retrans. Vol (Bytes)', 'HTTP DL (Bytes)', 'HTTP UL (Bytes)', 'Nb of sec with 125000B < Vol DL', 'Nb of sec with 1250B < Vol UL < 6250B', 'Nb of sec with 31250B < Vol DL < 125000B', 'Nb of sec with 37500B < Vol UL', 'Nb of sec with 6250B < Vol DL < 31250B', 'Nb of sec with 6250B < Vol UL < 37500B',], axis=1)\n",
        "df_clean.shape"
      ]
    },
    {
      "cell_type": "code",
      "execution_count": 36,
      "metadata": {},
      "outputs": [],
      "source": [
        "# dropping rows for columns with Unidue identifiers for customer data since we cannot fill missing values with existing data\n",
        "df_clean.dropna(subset = ['MSISDN/Number'], inplace=True)"
      ]
    },
    {
      "cell_type": "code",
      "execution_count": 38,
      "metadata": {},
      "outputs": [
        {
          "output_type": "execute_result",
          "data": {
            "text/plain": [
              "(148935, 45)"
            ]
          },
          "metadata": {},
          "execution_count": 38
        }
      ],
      "source": [
        "# Checking for missing values and then shape\n",
        "df_clean.isna().sum()\n",
        "df_clean.shape"
      ]
    },
    {
      "cell_type": "code",
      "execution_count": 39,
      "metadata": {},
      "outputs": [
        {
          "output_type": "execute_result",
          "data": {
            "text/plain": [
              "Bearer Id                         429\n",
              "Start                               0\n",
              "Start ms                            0\n",
              "End                                 0\n",
              "End ms                              0\n",
              "Dur. (ms)                           0\n",
              "IMSI                                0\n",
              "MSISDN/Number                       0\n",
              "IMEI                                0\n",
              "Last Location Name                589\n",
              "Avg RTT DL (ms)                     0\n",
              "Avg RTT UL (ms)                     0\n",
              "Avg Bearer TP DL (kbps)             0\n",
              "Avg Bearer TP UL (kbps)             0\n",
              "DL TP < 50 Kbps (%)               720\n",
              "50 Kbps < DL TP < 250 Kbps (%)    720\n",
              "250 Kbps < DL TP < 1 Mbps (%)     720\n",
              "DL TP > 1 Mbps (%)                720\n",
              "UL TP < 10 Kbps (%)               767\n",
              "10 Kbps < UL TP < 50 Kbps (%)     767\n",
              "50 Kbps < UL TP < 300 Kbps (%)    767\n",
              "UL TP > 300 Kbps (%)              767\n",
              "Activity Duration DL (ms)           0\n",
              "Activity Duration UL (ms)           0\n",
              "Dur. (ms).1                         0\n",
              "Handset Manufacturer                0\n",
              "Handset Type                        0\n",
              "Nb of sec with Vol DL < 6250B       0\n",
              "Nb of sec with Vol UL < 1250B       0\n",
              "Social Media DL (Bytes)             0\n",
              "Social Media UL (Bytes)             0\n",
              "Google DL (Bytes)                   0\n",
              "Google UL (Bytes)                   0\n",
              "Email DL (Bytes)                    0\n",
              "Email UL (Bytes)                    0\n",
              "Youtube DL (Bytes)                  0\n",
              "Youtube UL (Bytes)                  0\n",
              "Netflix DL (Bytes)                  0\n",
              "Netflix UL (Bytes)                  0\n",
              "Gaming DL (Bytes)                   0\n",
              "Gaming UL (Bytes)                   0\n",
              "Other DL (Bytes)                    0\n",
              "Other UL (Bytes)                    0\n",
              "Total UL (Bytes)                    0\n",
              "Total DL (Bytes)                    0\n",
              "dtype: int64"
            ]
          },
          "metadata": {},
          "execution_count": 39
        }
      ],
      "source": [
        "# Checking for missing values\n",
        "df_clean.isna().sum()"
      ]
    },
    {
      "source": [
        "Filling Missing Values"
      ],
      "cell_type": "markdown",
      "metadata": {}
    },
    {
      "cell_type": "code",
      "execution_count": 41,
      "metadata": {},
      "outputs": [
        {
          "output_type": "execute_result",
          "data": {
            "text/plain": [
              "          Bearer Id       Start ms         End ms     Dur. (ms)          IMSI  \\\n",
              "count  1.485060e+05  148935.000000  148935.000000  1.489350e+05  1.489350e+05   \n",
              "mean   1.014676e+19     499.246732     498.675442  1.048702e+05  2.082016e+14   \n",
              "std    2.893262e+18     288.555630     288.089136  8.106343e+04  1.522166e+10   \n",
              "min    6.917538e+18       0.000000       0.000000  7.142000e+03  2.040471e+14   \n",
              "25%    7.349883e+18     250.000000     251.000000  5.788350e+04  2.082014e+14   \n",
              "50%    7.349883e+18     499.000000     500.000000  8.639900e+04  2.082015e+14   \n",
              "75%    1.304243e+19     749.000000     750.000000  1.327000e+05  2.082018e+14   \n",
              "max    1.318654e+19     999.000000     999.000000  1.859336e+06  2.082522e+14   \n",
              "\n",
              "       MSISDN/Number          IMEI  Avg RTT DL (ms)  Avg RTT UL (ms)  \\\n",
              "count   1.489350e+05  1.489350e+05    148935.000000    148935.000000   \n",
              "mean    4.188282e+10  4.849493e+13       102.357089        17.125498   \n",
              "std     2.447443e+12  2.242829e+13       554.550371        84.596474   \n",
              "min     3.360100e+10  4.400152e+11         0.000000         0.000000   \n",
              "25%     3.365130e+10  3.546071e+13        31.000000         2.000000   \n",
              "50%     3.366371e+10  3.572221e+13        44.000000         5.000000   \n",
              "75%     3.368349e+10  8.611970e+13        67.000000        13.000000   \n",
              "max     8.823971e+14  9.900120e+13     96923.000000      7120.000000   \n",
              "\n",
              "       Avg Bearer TP DL (kbps)  ...  Youtube DL (Bytes)  Youtube UL (Bytes)  \\\n",
              "count            148935.000000  ...        1.489350e+05        1.489350e+05   \n",
              "mean              13286.171390  ...        1.163345e+07        1.100867e+07   \n",
              "std               23978.591234  ...        6.711384e+06        6.345428e+06   \n",
              "min                   0.000000  ...        5.300000e+01        1.050000e+02   \n",
              "25%                  43.000000  ...        5.831331e+06        5.516710e+06   \n",
              "50%                  63.000000  ...        1.161638e+07        1.101329e+07   \n",
              "75%               19681.000000  ...        1.744571e+07        1.651442e+07   \n",
              "max              378160.000000  ...        2.325910e+07        2.201196e+07   \n",
              "\n",
              "       Netflix DL (Bytes)  Netflix UL (Bytes)  Gaming DL (Bytes)  \\\n",
              "count        1.489350e+05        1.489350e+05       1.489350e+05   \n",
              "mean         1.162756e+07        1.100017e+07       4.220256e+08   \n",
              "std          6.724686e+06        6.358918e+06       2.439763e+08   \n",
              "min          4.200000e+01        3.500000e+01       2.516000e+03   \n",
              "25%          5.779947e+06        5.474451e+06       2.104587e+08   \n",
              "50%          1.164269e+07        1.099563e+07       4.234208e+08   \n",
              "75%          1.747072e+07        1.650429e+07       6.331620e+08   \n",
              "max          2.325919e+07        2.201196e+07       8.434419e+08   \n",
              "\n",
              "       Gaming UL (Bytes)  Other DL (Bytes)  Other UL (Bytes)  \\\n",
              "count       1.489350e+05      1.489350e+05      1.489350e+05   \n",
              "mean        8.289085e+06      4.211473e+08      8.263189e+06   \n",
              "std         4.782090e+06      2.431970e+08      4.768708e+06   \n",
              "min         5.900000e+01      3.290000e+03      1.480000e+02   \n",
              "25%         4.130162e+06      2.102119e+08      4.145072e+06   \n",
              "50%         8.291222e+06      4.218716e+08      8.266089e+06   \n",
              "75%         1.243184e+07      6.316602e+08      1.238204e+07   \n",
              "max         1.655879e+07      8.434425e+08      1.655882e+07   \n",
              "\n",
              "       Total UL (Bytes)  Total DL (Bytes)  \n",
              "count      1.489350e+05      1.489350e+05  \n",
              "mean       4.111764e+07      4.546251e+08  \n",
              "std        1.127933e+07      2.441528e+08  \n",
              "min        2.866892e+06      7.114041e+06  \n",
              "25%        3.321774e+07      2.430996e+08  \n",
              "50%        4.114101e+07      4.558708e+08  \n",
              "75%        4.903248e+07      6.656577e+08  \n",
              "max        7.833131e+07      9.029696e+08  \n",
              "\n",
              "[8 rows x 40 columns]"
            ],
            "text/html": "<div>\n<style scoped>\n    .dataframe tbody tr th:only-of-type {\n        vertical-align: middle;\n    }\n\n    .dataframe tbody tr th {\n        vertical-align: top;\n    }\n\n    .dataframe thead th {\n        text-align: right;\n    }\n</style>\n<table border=\"1\" class=\"dataframe\">\n  <thead>\n    <tr style=\"text-align: right;\">\n      <th></th>\n      <th>Bearer Id</th>\n      <th>Start ms</th>\n      <th>End ms</th>\n      <th>Dur. (ms)</th>\n      <th>IMSI</th>\n      <th>MSISDN/Number</th>\n      <th>IMEI</th>\n      <th>Avg RTT DL (ms)</th>\n      <th>Avg RTT UL (ms)</th>\n      <th>Avg Bearer TP DL (kbps)</th>\n      <th>...</th>\n      <th>Youtube DL (Bytes)</th>\n      <th>Youtube UL (Bytes)</th>\n      <th>Netflix DL (Bytes)</th>\n      <th>Netflix UL (Bytes)</th>\n      <th>Gaming DL (Bytes)</th>\n      <th>Gaming UL (Bytes)</th>\n      <th>Other DL (Bytes)</th>\n      <th>Other UL (Bytes)</th>\n      <th>Total UL (Bytes)</th>\n      <th>Total DL (Bytes)</th>\n    </tr>\n  </thead>\n  <tbody>\n    <tr>\n      <th>count</th>\n      <td>1.485060e+05</td>\n      <td>148935.000000</td>\n      <td>148935.000000</td>\n      <td>1.489350e+05</td>\n      <td>1.489350e+05</td>\n      <td>1.489350e+05</td>\n      <td>1.489350e+05</td>\n      <td>148935.000000</td>\n      <td>148935.000000</td>\n      <td>148935.000000</td>\n      <td>...</td>\n      <td>1.489350e+05</td>\n      <td>1.489350e+05</td>\n      <td>1.489350e+05</td>\n      <td>1.489350e+05</td>\n      <td>1.489350e+05</td>\n      <td>1.489350e+05</td>\n      <td>1.489350e+05</td>\n      <td>1.489350e+05</td>\n      <td>1.489350e+05</td>\n      <td>1.489350e+05</td>\n    </tr>\n    <tr>\n      <th>mean</th>\n      <td>1.014676e+19</td>\n      <td>499.246732</td>\n      <td>498.675442</td>\n      <td>1.048702e+05</td>\n      <td>2.082016e+14</td>\n      <td>4.188282e+10</td>\n      <td>4.849493e+13</td>\n      <td>102.357089</td>\n      <td>17.125498</td>\n      <td>13286.171390</td>\n      <td>...</td>\n      <td>1.163345e+07</td>\n      <td>1.100867e+07</td>\n      <td>1.162756e+07</td>\n      <td>1.100017e+07</td>\n      <td>4.220256e+08</td>\n      <td>8.289085e+06</td>\n      <td>4.211473e+08</td>\n      <td>8.263189e+06</td>\n      <td>4.111764e+07</td>\n      <td>4.546251e+08</td>\n    </tr>\n    <tr>\n      <th>std</th>\n      <td>2.893262e+18</td>\n      <td>288.555630</td>\n      <td>288.089136</td>\n      <td>8.106343e+04</td>\n      <td>1.522166e+10</td>\n      <td>2.447443e+12</td>\n      <td>2.242829e+13</td>\n      <td>554.550371</td>\n      <td>84.596474</td>\n      <td>23978.591234</td>\n      <td>...</td>\n      <td>6.711384e+06</td>\n      <td>6.345428e+06</td>\n      <td>6.724686e+06</td>\n      <td>6.358918e+06</td>\n      <td>2.439763e+08</td>\n      <td>4.782090e+06</td>\n      <td>2.431970e+08</td>\n      <td>4.768708e+06</td>\n      <td>1.127933e+07</td>\n      <td>2.441528e+08</td>\n    </tr>\n    <tr>\n      <th>min</th>\n      <td>6.917538e+18</td>\n      <td>0.000000</td>\n      <td>0.000000</td>\n      <td>7.142000e+03</td>\n      <td>2.040471e+14</td>\n      <td>3.360100e+10</td>\n      <td>4.400152e+11</td>\n      <td>0.000000</td>\n      <td>0.000000</td>\n      <td>0.000000</td>\n      <td>...</td>\n      <td>5.300000e+01</td>\n      <td>1.050000e+02</td>\n      <td>4.200000e+01</td>\n      <td>3.500000e+01</td>\n      <td>2.516000e+03</td>\n      <td>5.900000e+01</td>\n      <td>3.290000e+03</td>\n      <td>1.480000e+02</td>\n      <td>2.866892e+06</td>\n      <td>7.114041e+06</td>\n    </tr>\n    <tr>\n      <th>25%</th>\n      <td>7.349883e+18</td>\n      <td>250.000000</td>\n      <td>251.000000</td>\n      <td>5.788350e+04</td>\n      <td>2.082014e+14</td>\n      <td>3.365130e+10</td>\n      <td>3.546071e+13</td>\n      <td>31.000000</td>\n      <td>2.000000</td>\n      <td>43.000000</td>\n      <td>...</td>\n      <td>5.831331e+06</td>\n      <td>5.516710e+06</td>\n      <td>5.779947e+06</td>\n      <td>5.474451e+06</td>\n      <td>2.104587e+08</td>\n      <td>4.130162e+06</td>\n      <td>2.102119e+08</td>\n      <td>4.145072e+06</td>\n      <td>3.321774e+07</td>\n      <td>2.430996e+08</td>\n    </tr>\n    <tr>\n      <th>50%</th>\n      <td>7.349883e+18</td>\n      <td>499.000000</td>\n      <td>500.000000</td>\n      <td>8.639900e+04</td>\n      <td>2.082015e+14</td>\n      <td>3.366371e+10</td>\n      <td>3.572221e+13</td>\n      <td>44.000000</td>\n      <td>5.000000</td>\n      <td>63.000000</td>\n      <td>...</td>\n      <td>1.161638e+07</td>\n      <td>1.101329e+07</td>\n      <td>1.164269e+07</td>\n      <td>1.099563e+07</td>\n      <td>4.234208e+08</td>\n      <td>8.291222e+06</td>\n      <td>4.218716e+08</td>\n      <td>8.266089e+06</td>\n      <td>4.114101e+07</td>\n      <td>4.558708e+08</td>\n    </tr>\n    <tr>\n      <th>75%</th>\n      <td>1.304243e+19</td>\n      <td>749.000000</td>\n      <td>750.000000</td>\n      <td>1.327000e+05</td>\n      <td>2.082018e+14</td>\n      <td>3.368349e+10</td>\n      <td>8.611970e+13</td>\n      <td>67.000000</td>\n      <td>13.000000</td>\n      <td>19681.000000</td>\n      <td>...</td>\n      <td>1.744571e+07</td>\n      <td>1.651442e+07</td>\n      <td>1.747072e+07</td>\n      <td>1.650429e+07</td>\n      <td>6.331620e+08</td>\n      <td>1.243184e+07</td>\n      <td>6.316602e+08</td>\n      <td>1.238204e+07</td>\n      <td>4.903248e+07</td>\n      <td>6.656577e+08</td>\n    </tr>\n    <tr>\n      <th>max</th>\n      <td>1.318654e+19</td>\n      <td>999.000000</td>\n      <td>999.000000</td>\n      <td>1.859336e+06</td>\n      <td>2.082522e+14</td>\n      <td>8.823971e+14</td>\n      <td>9.900120e+13</td>\n      <td>96923.000000</td>\n      <td>7120.000000</td>\n      <td>378160.000000</td>\n      <td>...</td>\n      <td>2.325910e+07</td>\n      <td>2.201196e+07</td>\n      <td>2.325919e+07</td>\n      <td>2.201196e+07</td>\n      <td>8.434419e+08</td>\n      <td>1.655879e+07</td>\n      <td>8.434425e+08</td>\n      <td>1.655882e+07</td>\n      <td>7.833131e+07</td>\n      <td>9.029696e+08</td>\n    </tr>\n  </tbody>\n</table>\n<p>8 rows × 40 columns</p>\n</div>"
          },
          "metadata": {},
          "execution_count": 41
        }
      ],
      "source": [
        "# fill missing with ffill method for columns ('Nb of sec with Vol DL < 6250B','Nb of sec with Vol UL < 1250B', 'Avg RTT DL (ms)', 'Avg RTT UL (ms)')\n",
        "\n",
        "def fix_missing_ffill(df, col):\n",
        "    df[col] = df[col].fillna(method='ffill')\n",
        "    return df[col]\n",
        "\n",
        "\n",
        "def fix_missing_bfill(df, col):\n",
        "    df[col] = df[col].fillna(method='bfill')\n",
        "    return df[col]\n",
        "\n",
        "df_clean['Nb of sec with Vol DL < 6250B'] = fix_missing_ffill(df_clean, 'Nb of sec with Vol DL < 6250B')\n",
        "df_clean['Nb of sec with Vol UL < 1250B'] = fix_missing_ffill(df_clean, 'Nb of sec with Vol UL < 1250B')\n",
        "df_clean['Avg RTT DL (ms)'] = fix_missing_ffill(df_clean, 'Avg RTT DL (ms)')\n",
        "df_clean['Avg RTT UL (ms)'] = fix_missing_ffill(df_clean, 'Avg RTT UL (ms)')\n",
        "\n",
        "# fill 'Handset Manufacturer' column with mode \n",
        "df_clean['Handset Manufacturer'] = df_clean['Handset Manufacturer'].fillna(df_clean['Handset Manufacturer'].mode()[0])\n",
        "# fill 'Handset Type' column with mode \n",
        "df_clean['Handset Type'] = df_clean['Handset Type'].fillna(df_clean['Handset Type'].mode()[0])\n",
        "df_clean.describe()"
      ]
    },
    {
      "source": [
        "SELECT COLUMNS OF INTEREST AND CALCULATE SUMMARY STATISTICS\n"
      ],
      "cell_type": "markdown",
      "metadata": {}
    },
    {
      "cell_type": "code",
      "execution_count": 46,
      "metadata": {},
      "outputs": [],
      "source": [
        "#df_clean[['MSISDN/Number', 'Dur. (ms)', 'Social Media DL (Bytes)', 'Social Media UL (Bytes)', 'Google DL (Bytes)', 'Google UL (Bytes)', 'Email DL (Bytes)', 'Email UL (Bytes)', 'Youtube DL (Bytes)', 'Youtube UL (Bytes)', 'Netflix DL (Bytes)', Netflix UL (Bytes)', 'Gaming DL (Bytes)', 'Gaming UL (Bytes)', 'Other DL (Bytes)', 'Other UL (Bytes)', 'Total UL (Bytes)', 'Total DL (Bytes)']]"
      ]
    },
    {
      "cell_type": "code",
      "execution_count": 50,
      "metadata": {},
      "outputs": [
        {
          "output_type": "execute_result",
          "data": {
            "text/plain": [
              "         Dur. (ms)   Dur. (ms).1\n",
              "sum   1.561884e+10  1.561892e+13\n",
              "mean  1.048702e+05  1.048707e+08"
            ],
            "text/html": "<div>\n<style scoped>\n    .dataframe tbody tr th:only-of-type {\n        vertical-align: middle;\n    }\n\n    .dataframe tbody tr th {\n        vertical-align: top;\n    }\n\n    .dataframe thead th {\n        text-align: right;\n    }\n</style>\n<table border=\"1\" class=\"dataframe\">\n  <thead>\n    <tr style=\"text-align: right;\">\n      <th></th>\n      <th>Dur. (ms)</th>\n      <th>Dur. (ms).1</th>\n    </tr>\n  </thead>\n  <tbody>\n    <tr>\n      <th>sum</th>\n      <td>1.561884e+10</td>\n      <td>1.561892e+13</td>\n    </tr>\n    <tr>\n      <th>mean</th>\n      <td>1.048702e+05</td>\n      <td>1.048707e+08</td>\n    </tr>\n  </tbody>\n</table>\n</div>"
          },
          "metadata": {},
          "execution_count": 50
        }
      ],
      "source": [
        "#aggregate of xDR sessions\n",
        "xDR_Sessions = df_clean[['Dur. (ms)', 'Dur. (ms).1']]\n",
        "xDR_Sessions.aggregate([np.sum, 'mean'], axis=0)"
      ]
    },
    {
      "cell_type": "code",
      "execution_count": 49,
      "metadata": {},
      "outputs": [
        {
          "output_type": "execute_result",
          "data": {
            "text/plain": [
              "      Total UL (Bytes)  Total DL (Bytes)\n",
              "sum       6.123856e+12      6.770959e+13\n",
              "mean      4.111764e+07      4.546251e+08"
            ],
            "text/html": "<div>\n<style scoped>\n    .dataframe tbody tr th:only-of-type {\n        vertical-align: middle;\n    }\n\n    .dataframe tbody tr th {\n        vertical-align: top;\n    }\n\n    .dataframe thead th {\n        text-align: right;\n    }\n</style>\n<table border=\"1\" class=\"dataframe\">\n  <thead>\n    <tr style=\"text-align: right;\">\n      <th></th>\n      <th>Total UL (Bytes)</th>\n      <th>Total DL (Bytes)</th>\n    </tr>\n  </thead>\n  <tbody>\n    <tr>\n      <th>sum</th>\n      <td>6.123856e+12</td>\n      <td>6.770959e+13</td>\n    </tr>\n    <tr>\n      <th>mean</th>\n      <td>4.111764e+07</td>\n      <td>4.546251e+08</td>\n    </tr>\n  </tbody>\n</table>\n</div>"
          },
          "metadata": {},
          "execution_count": 49
        }
      ],
      "source": [
        "# aggregate of the total download and upload data\n",
        "Total_Data = df_clean[['Total UL (Bytes)', 'Total DL (Bytes)']]\n",
        "Total_Data.aggregate([np.sum, 'mean'], axis=0)"
      ]
    },
    {
      "cell_type": "code",
      "execution_count": 51,
      "metadata": {},
      "outputs": [
        {
          "output_type": "execute_result",
          "data": {
            "text/plain": [
              "      Social Media DL (Bytes)  Social Media UL (Bytes)\n",
              "sum              2.673623e+11             4.903196e+09\n",
              "mean             1.795161e+06             3.292172e+04"
            ],
            "text/html": "<div>\n<style scoped>\n    .dataframe tbody tr th:only-of-type {\n        vertical-align: middle;\n    }\n\n    .dataframe tbody tr th {\n        vertical-align: top;\n    }\n\n    .dataframe thead th {\n        text-align: right;\n    }\n</style>\n<table border=\"1\" class=\"dataframe\">\n  <thead>\n    <tr style=\"text-align: right;\">\n      <th></th>\n      <th>Social Media DL (Bytes)</th>\n      <th>Social Media UL (Bytes)</th>\n    </tr>\n  </thead>\n  <tbody>\n    <tr>\n      <th>sum</th>\n      <td>2.673623e+11</td>\n      <td>4.903196e+09</td>\n    </tr>\n    <tr>\n      <th>mean</th>\n      <td>1.795161e+06</td>\n      <td>3.292172e+04</td>\n    </tr>\n  </tbody>\n</table>\n</div>"
          },
          "metadata": {},
          "execution_count": 51
        }
      ],
      "source": [
        "#aggregate of social media sessions\n",
        "social_media = df_clean[['Social Media DL (Bytes)', 'Social Media UL (Bytes)']]\n",
        "social_media.aggregate([np.sum, 'mean'], axis=0)"
      ]
    },
    {
      "cell_type": "code",
      "execution_count": 52,
      "metadata": {},
      "outputs": [
        {
          "output_type": "execute_result",
          "data": {
            "text/plain": [
              "      Google DL (Bytes)  Google UL (Bytes)\n",
              "sum        8.566107e+11       3.062427e+11\n",
              "mean       5.751574e+06       2.056217e+06"
            ],
            "text/html": "<div>\n<style scoped>\n    .dataframe tbody tr th:only-of-type {\n        vertical-align: middle;\n    }\n\n    .dataframe tbody tr th {\n        vertical-align: top;\n    }\n\n    .dataframe thead th {\n        text-align: right;\n    }\n</style>\n<table border=\"1\" class=\"dataframe\">\n  <thead>\n    <tr style=\"text-align: right;\">\n      <th></th>\n      <th>Google DL (Bytes)</th>\n      <th>Google UL (Bytes)</th>\n    </tr>\n  </thead>\n  <tbody>\n    <tr>\n      <th>sum</th>\n      <td>8.566107e+11</td>\n      <td>3.062427e+11</td>\n    </tr>\n    <tr>\n      <th>mean</th>\n      <td>5.751574e+06</td>\n      <td>2.056217e+06</td>\n    </tr>\n  </tbody>\n</table>\n</div>"
          },
          "metadata": {},
          "execution_count": 52
        }
      ],
      "source": [
        "#aggregate of google sessions\n",
        "google = df_clean[['Google DL (Bytes)', 'Google UL (Bytes)']]\n",
        "google.aggregate([np.sum, 'mean'], axis=0)"
      ]
    },
    {
      "cell_type": "code",
      "execution_count": 53,
      "metadata": {},
      "outputs": [
        {
          "output_type": "execute_result",
          "data": {
            "text/plain": [
              "      Email DL (Bytes)  Email UL (Bytes)\n",
              "sum       2.668571e+11      6.961065e+10\n",
              "mean      1.791769e+06      4.673895e+05"
            ],
            "text/html": "<div>\n<style scoped>\n    .dataframe tbody tr th:only-of-type {\n        vertical-align: middle;\n    }\n\n    .dataframe tbody tr th {\n        vertical-align: top;\n    }\n\n    .dataframe thead th {\n        text-align: right;\n    }\n</style>\n<table border=\"1\" class=\"dataframe\">\n  <thead>\n    <tr style=\"text-align: right;\">\n      <th></th>\n      <th>Email DL (Bytes)</th>\n      <th>Email UL (Bytes)</th>\n    </tr>\n  </thead>\n  <tbody>\n    <tr>\n      <th>sum</th>\n      <td>2.668571e+11</td>\n      <td>6.961065e+10</td>\n    </tr>\n    <tr>\n      <th>mean</th>\n      <td>1.791769e+06</td>\n      <td>4.673895e+05</td>\n    </tr>\n  </tbody>\n</table>\n</div>"
          },
          "metadata": {},
          "execution_count": 53
        }
      ],
      "source": [
        "#aggregate of email sessions\n",
        "email = df_clean[['Email DL (Bytes)', 'Email UL (Bytes)']]\n",
        "email.aggregate([np.sum, 'mean'], axis=0)"
      ]
    },
    {
      "cell_type": "code",
      "execution_count": 54,
      "metadata": {},
      "outputs": [
        {
          "output_type": "execute_result",
          "data": {
            "text/plain": [
              "      Youtube DL (Bytes)  Youtube UL (Bytes)\n",
              "sum         1.732628e+12        1.639576e+12\n",
              "mean        1.163345e+07        1.100867e+07"
            ],
            "text/html": "<div>\n<style scoped>\n    .dataframe tbody tr th:only-of-type {\n        vertical-align: middle;\n    }\n\n    .dataframe tbody tr th {\n        vertical-align: top;\n    }\n\n    .dataframe thead th {\n        text-align: right;\n    }\n</style>\n<table border=\"1\" class=\"dataframe\">\n  <thead>\n    <tr style=\"text-align: right;\">\n      <th></th>\n      <th>Youtube DL (Bytes)</th>\n      <th>Youtube UL (Bytes)</th>\n    </tr>\n  </thead>\n  <tbody>\n    <tr>\n      <th>sum</th>\n      <td>1.732628e+12</td>\n      <td>1.639576e+12</td>\n    </tr>\n    <tr>\n      <th>mean</th>\n      <td>1.163345e+07</td>\n      <td>1.100867e+07</td>\n    </tr>\n  </tbody>\n</table>\n</div>"
          },
          "metadata": {},
          "execution_count": 54
        }
      ],
      "source": [
        "#aggregate of youtube sessions\n",
        "youtube = df_clean[['Youtube DL (Bytes)', 'Youtube UL (Bytes)']]\n",
        "youtube.aggregate([np.sum, 'mean'], axis=0)"
      ]
    },
    {
      "cell_type": "code",
      "execution_count": 56,
      "metadata": {},
      "outputs": [
        {
          "output_type": "execute_result",
          "data": {
            "text/plain": [
              "      Netflix DL (Bytes)  Netflix UL (Bytes)\n",
              "sum         1.731750e+12        1.638310e+12\n",
              "mean        1.162756e+07        1.100017e+07"
            ],
            "text/html": "<div>\n<style scoped>\n    .dataframe tbody tr th:only-of-type {\n        vertical-align: middle;\n    }\n\n    .dataframe tbody tr th {\n        vertical-align: top;\n    }\n\n    .dataframe thead th {\n        text-align: right;\n    }\n</style>\n<table border=\"1\" class=\"dataframe\">\n  <thead>\n    <tr style=\"text-align: right;\">\n      <th></th>\n      <th>Netflix DL (Bytes)</th>\n      <th>Netflix UL (Bytes)</th>\n    </tr>\n  </thead>\n  <tbody>\n    <tr>\n      <th>sum</th>\n      <td>1.731750e+12</td>\n      <td>1.638310e+12</td>\n    </tr>\n    <tr>\n      <th>mean</th>\n      <td>1.162756e+07</td>\n      <td>1.100017e+07</td>\n    </tr>\n  </tbody>\n</table>\n</div>"
          },
          "metadata": {},
          "execution_count": 56
        }
      ],
      "source": [
        "#aggregate of netflix sessions\n",
        "netflix = df_clean[['Netflix DL (Bytes)', 'Netflix UL (Bytes)']]\n",
        "netflix.aggregate([np.sum, 'mean'], axis=0)"
      ]
    },
    {
      "cell_type": "code",
      "execution_count": 57,
      "metadata": {},
      "outputs": [
        {
          "output_type": "execute_result",
          "data": {
            "text/plain": [
              "      Gaming DL (Bytes)  Gaming UL (Bytes)\n",
              "sum        6.285438e+13       1.234535e+12\n",
              "mean       4.220256e+08       8.289085e+06"
            ],
            "text/html": "<div>\n<style scoped>\n    .dataframe tbody tr th:only-of-type {\n        vertical-align: middle;\n    }\n\n    .dataframe tbody tr th {\n        vertical-align: top;\n    }\n\n    .dataframe thead th {\n        text-align: right;\n    }\n</style>\n<table border=\"1\" class=\"dataframe\">\n  <thead>\n    <tr style=\"text-align: right;\">\n      <th></th>\n      <th>Gaming DL (Bytes)</th>\n      <th>Gaming UL (Bytes)</th>\n    </tr>\n  </thead>\n  <tbody>\n    <tr>\n      <th>sum</th>\n      <td>6.285438e+13</td>\n      <td>1.234535e+12</td>\n    </tr>\n    <tr>\n      <th>mean</th>\n      <td>4.220256e+08</td>\n      <td>8.289085e+06</td>\n    </tr>\n  </tbody>\n</table>\n</div>"
          },
          "metadata": {},
          "execution_count": 57
        }
      ],
      "source": [
        "#aggregate of gaming sessions\n",
        "gaming = df_clean[[ 'Gaming DL (Bytes)', 'Gaming UL (Bytes)']]\n",
        "gaming.aggregate([np.sum, 'mean'], axis=0)"
      ]
    },
    {
      "cell_type": "code",
      "execution_count": 58,
      "metadata": {},
      "outputs": [
        {
          "output_type": "execute_result",
          "data": {
            "text/plain": [
              "      Other DL (Bytes)  Other UL (Bytes)\n",
              "sum       6.272357e+13      1.230678e+12\n",
              "mean      4.211473e+08      8.263189e+06"
            ],
            "text/html": "<div>\n<style scoped>\n    .dataframe tbody tr th:only-of-type {\n        vertical-align: middle;\n    }\n\n    .dataframe tbody tr th {\n        vertical-align: top;\n    }\n\n    .dataframe thead th {\n        text-align: right;\n    }\n</style>\n<table border=\"1\" class=\"dataframe\">\n  <thead>\n    <tr style=\"text-align: right;\">\n      <th></th>\n      <th>Other DL (Bytes)</th>\n      <th>Other UL (Bytes)</th>\n    </tr>\n  </thead>\n  <tbody>\n    <tr>\n      <th>sum</th>\n      <td>6.272357e+13</td>\n      <td>1.230678e+12</td>\n    </tr>\n    <tr>\n      <th>mean</th>\n      <td>4.211473e+08</td>\n      <td>8.263189e+06</td>\n    </tr>\n  </tbody>\n</table>\n</div>"
          },
          "metadata": {},
          "execution_count": 58
        }
      ],
      "source": [
        "#aggregate of other sessions\n",
        "other = df_clean[['Other DL (Bytes)', 'Other UL (Bytes)']]\n",
        "other.aggregate([np.sum, 'mean'], axis=0)"
      ]
    },
    {
      "source": [
        "ASSIGNMENT 1.2"
      ],
      "cell_type": "markdown",
      "metadata": {}
    },
    {
      "cell_type": "code",
      "execution_count": null,
      "metadata": {},
      "outputs": [],
      "source": []
    },
    {
      "cell_type": "code",
      "execution_count": null,
      "metadata": {},
      "outputs": [],
      "source": []
    }
  ]
}