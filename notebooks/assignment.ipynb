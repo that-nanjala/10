{
  "nbformat": 4,
  "nbformat_minor": 0,
  "metadata": {
    "colab": {
      "name": "Assignment Wk 1.ipynb",
      "provenance": []
    },
    "kernelspec": {
      "name": "python3",
      "display_name": "Python 3.8.8 64-bit ('base': conda)"
    },
    "language_info": {
      "name": "python",
      "version": "3.8.8"
    },
    "interpreter": {
      "hash": "ee68c6231b7666e3fe3294cf499981ff48cc7584df16761ca3291063d0168de0"
    }
  },
  "cells": [
    {
      "cell_type": "markdown",
      "metadata": {
        "id": "1jl0JXCdljWM"
      },
      "source": [
        "# **PURPOSE**\n",
        "To analyze the dataset to deliver insights extracted"
      ]
    },
    {
      "cell_type": "markdown",
      "metadata": {
        "id": "1Ik_FcjMZ81x"
      },
      "source": [
        "### **FIRST IMPORTING ENV**"
      ]
    },
    {
      "cell_type": "code",
      "execution_count": null,
      "metadata": {},
      "outputs": [],
      "source": [
        "!pip install numpy pandas matplotlib seaborn sklearn"
      ]
    },
    {
      "cell_type": "code",
      "metadata": {
        "id": "AZEWIMySaK-b"
      },
      "source": [
        "import pandas as pd\n",
        "import numpy as np\n",
        "import seaborn as sns\n",
        "import matplotlib.pyplot as plt"
      ],
      "execution_count": null,
      "outputs": []
    },
    {
      "cell_type": "markdown",
      "metadata": {
        "id": "oUyq1LHblS8R"
      },
      "source": [
        " **LOADING THE DATA**"
      ]
    },
    {
      "cell_type": "code",
      "metadata": {
        "id": "U00nb_mRla7X"
      },
      "source": [
        "Path_to_data = \"../data/telcom.csv\""
      ],
      "execution_count": null,
      "outputs": []
    },
    {
      "cell_type": "code",
      "metadata": {
        "id": "hMvXL0GHl9ed"
      },
      "source": [
        "#Read data from csv file\n",
        "db = pd.read_csv(Path_to_data, na_values=['?', None])\n",
        "\n",
        "#Display data\n",
        "db.head()"
      ],
      "execution_count": null,
      "outputs": []
    },
    {
      "cell_type": "code",
      "metadata": {
        "id": "HN2mNEpLmUEf"
      },
      "source": [
        "# column names\n",
        "db.columns.tolist()"
      ],
      "execution_count": null,
      "outputs": []
    },
    {
      "source": [
        "EXPLORING THE DATAFRAME"
      ],
      "cell_type": "markdown",
      "metadata": {}
    },
    {
      "cell_type": "code",
      "execution_count": null,
      "metadata": {},
      "outputs": [],
      "source": [
        "# checking data types\n",
        "db.info()"
      ]
    },
    {
      "cell_type": "code",
      "execution_count": null,
      "metadata": {},
      "outputs": [],
      "source": [
        "# number of data points\n",
        "print(f\" There are {db.shape[0]} rows and {db.shape[1]} columns\")"
      ]
    },
    {
      "cell_type": "code",
      "execution_count": null,
      "metadata": {},
      "outputs": [],
      "source": [
        "# summary statistics\n",
        "db.describe()"
      ]
    },
    {
      "cell_type": "code",
      "execution_count": null,
      "metadata": {},
      "outputs": [],
      "source": [
        "# Finding mode for manufacturer\n",
        "db.mode()['Handset Manufacturer'][0]"
      ]
    },
    {
      "cell_type": "code",
      "execution_count": null,
      "metadata": {},
      "outputs": [],
      "source": [
        "# Finding mode for handset type\n",
        "db.mode()['Handset Type'][0]"
      ]
    },
    {
      "cell_type": "code",
      "execution_count": null,
      "metadata": {},
      "outputs": [],
      "source": [
        "# selecting columns of interest\n",
        "manufacturer = db['Handset Manufacturer']\n",
        "manufacturer.head()\n",
        "manufacturer.describe()"
      ]
    },
    {
      "cell_type": "code",
      "execution_count": null,
      "metadata": {},
      "outputs": [],
      "source": [
        "# Getting top 10 handsets used by customers\n",
        "n = 10\n",
        "db['Handset Type'].value_counts()[:n].index.tolist()"
      ]
    },
    {
      "cell_type": "code",
      "execution_count": null,
      "metadata": {},
      "outputs": [],
      "source": [
        "# Getting the top 3 handset manufacturers\n",
        "n = 3\n",
        "db['Handset Manufacturer'].value_counts()[:n].index.tolist()"
      ]
    },
    {
      "cell_type": "code",
      "execution_count": null,
      "metadata": {},
      "outputs": [],
      "source": [
        "mobitype = db['Handset Type']\n",
        "mobitype.head()\n",
        "mobitype.describe()"
      ]
    },
    {
      "cell_type": "code",
      "execution_count": null,
      "metadata": {},
      "outputs": [],
      "source": [
        "# Using logic on rows to select only rows with apple as manufacturer\n",
        "apple = db[db['Handset Manufacturer'] == 'Apple']\n",
        "apple.info()"
      ]
    },
    {
      "cell_type": "code",
      "execution_count": 59,
      "metadata": {},
      "outputs": [
        {
          "output_type": "execute_result",
          "data": {
            "text/plain": [
              "['Apple iPhone 6S (A1688)',\n",
              " 'Apple iPhone 6 (A1586)',\n",
              " 'Apple iPhone 7 (A1778)',\n",
              " 'Apple iPhone Se (A1723)',\n",
              " 'Apple iPhone 8 (A1905)']"
            ]
          },
          "metadata": {},
          "execution_count": 59
        }
      ],
      "source": [
        "# Getting the top 5 handset types in apple\n",
        "n = 5\n",
        "apple['Handset Type'].value_counts()[:n].index.tolist()"
      ]
    },
    {
      "cell_type": "code",
      "execution_count": null,
      "metadata": {},
      "outputs": [],
      "source": [
        "# Using logic on rows to select only rows with samsung as manufacturer\n",
        "samsung = db[db['Handset Manufacturer'] == 'Samsung']\n",
        "samsung.info()"
      ]
    },
    {
      "cell_type": "code",
      "execution_count": 57,
      "metadata": {},
      "outputs": [
        {
          "output_type": "execute_result",
          "data": {
            "text/plain": [
              "['Samsung Galaxy S8 (Sm-G950F)',\n",
              " 'Samsung Galaxy A5 Sm-A520F',\n",
              " 'Samsung Galaxy J5 (Sm-J530)',\n",
              " 'Samsung Galaxy J3 (Sm-J330)',\n",
              " 'Samsung Galaxy S7 (Sm-G930X)']"
            ]
          },
          "metadata": {},
          "execution_count": 57
        }
      ],
      "source": [
        "# Getting the top 5 handset types in samsung\n",
        "n = 5\n",
        "samsung['Handset Type'].value_counts()[:n].index.tolist()"
      ]
    },
    {
      "cell_type": "code",
      "execution_count": null,
      "metadata": {},
      "outputs": [],
      "source": [
        "# Using logic on rows to select only rows with huawei as manufacturer\n",
        "huawei = db[db['Handset Manufacturer'] == 'Huawei']\n",
        "huawei.info()"
      ]
    },
    {
      "cell_type": "code",
      "execution_count": 58,
      "metadata": {},
      "outputs": [
        {
          "output_type": "execute_result",
          "data": {
            "text/plain": [
              "['Huawei B528S-23A',\n",
              " 'Huawei E5180',\n",
              " 'Huawei P20 Lite Huawei Nova 3E',\n",
              " 'Huawei P20',\n",
              " 'Huawei Y6 2018']"
            ]
          },
          "metadata": {},
          "execution_count": 58
        }
      ],
      "source": [
        "# Getting the top 5 handset types in huawei\n",
        "n = 5\n",
        "huawei['Handset Type'].value_counts()[:n].index.tolist()"
      ]
    },
    {
      "source": [
        "INTEPRETATION AND RECOMMENDATION\n",
        "\n",
        "The top 3 phone manufactures by users are Apple(59565), Samsung(40839), and Huawei(34423). Marketing campaigns can therefore target these users and especially with the following handset types: \n",
        "Apple iPhone 6S (A1688), Apple iPhone 6 (A1586), Apple iPhone 7 (A1778), Apple iPhone Se (A1723), Apple iPhone 8 (A1905), Samsung Galaxy S8 (Sm-G950F), Samsung Galaxy A5 Sm-A520F, Samsung Galaxy J5 (Sm-J530), Samsung Galaxy J3 (Sm-J330), Samsung Galaxy S7 (Sm-G930X), Huawei B528S-23A, Huawei E5180, Huawei P20 Lite Huawei Nova 3E, Huawei P20, Huawei Y6 2018."
      ],
      "cell_type": "markdown",
      "metadata": {}
    },
    {
      "cell_type": "code",
      "execution_count": null,
      "metadata": {},
      "outputs": [],
      "source": [
        "# Now which column(s) has missing values\n",
        "db.isna().sum()"
      ]
    },
    {
      "cell_type": "code",
      "execution_count": null,
      "metadata": {},
      "outputs": [],
      "source": []
    }
  ]
}