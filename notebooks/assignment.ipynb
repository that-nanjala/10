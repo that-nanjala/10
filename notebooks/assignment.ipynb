{
  "nbformat": 4,
  "nbformat_minor": 0,
  "metadata": {
    "colab": {
      "name": "Assignment Wk 1.ipynb",
      "provenance": []
    },
    "kernelspec": {
      "name": "python3",
      "display_name": "Python 3.8.8 64-bit ('base': conda)"
    },
    "language_info": {
      "name": "python",
      "version": "3.8.8"
    },
    "interpreter": {
      "hash": "ee68c6231b7666e3fe3294cf499981ff48cc7584df16761ca3291063d0168de0"
    }
  },
  "cells": [
    {
      "cell_type": "markdown",
      "metadata": {
        "id": "1jl0JXCdljWM"
      },
      "source": [
        "# **PURPOSE**\n",
        "To analyze the dataset to deliver insights extracted"
      ]
    },
    {
      "cell_type": "markdown",
      "metadata": {
        "id": "1Ik_FcjMZ81x"
      },
      "source": [
        "### **FIRST IMPORTING ENV**"
      ]
    },
    {
      "cell_type": "code",
      "execution_count": 203,
      "metadata": {},
      "outputs": [
        {
          "output_type": "stream",
          "name": "stdout",
          "text": [
            "Requirement already satisfied: numpy in c:\\users\\zawadi\\anaconda3\\lib\\site-packages (1.20.1)"
          ]
        }
      ],
      "source": [
        "!pip install numpy pandas matplotlib seaborn sklearn"
      ]
    },
    {
      "cell_type": "code",
      "metadata": {
        "id": "AZEWIMySaK-b"
      },
      "source": [
        "import pandas as pd\n",
        "import numpy as np\n",
        "import seaborn as sns\n",
        "import matplotlib.pyplot as plt\n",
        "from statistics import *\n"
      ],
      "execution_count": 204,
      "outputs": []
    },
    {
      "cell_type": "markdown",
      "metadata": {
        "id": "oUyq1LHblS8R"
      },
      "source": [
        " **LOADING THE DATA**"
      ]
    },
    {
      "cell_type": "code",
      "metadata": {
        "id": "U00nb_mRla7X"
      },
      "source": [
        "Path_to_data = \"../data/telcom.csv\""
      ],
      "execution_count": 205,
      "outputs": []
    },
    {
      "cell_type": "code",
      "metadata": {
        "id": "hMvXL0GHl9ed"
      },
      "source": [
        "#Read data from csv file\n",
        "db = pd.read_csv(Path_to_data, na_values=['?', None])\n",
        "\n",
        "#Display data\n",
        "db.head()"
      ],
      "execution_count": 206,
      "outputs": [
        {
          "output_type": "execute_result",
          "data": {
            "text/plain": [
              "                      Bearer Id            Start  Start ms              End  \\\n",
              "0 13,114,483,460,844,900,352.00   4/4/2019 12:01    770.00  4/25/2019 14:35   \n",
              "1 13,114,483,482,878,900,224.00   4/9/2019 13:04    235.00   4/25/2019 8:15   \n",
              "2 13,114,483,484,080,500,736.00   4/9/2019 17:42      1.00  4/25/2019 11:58   \n",
              "3 13,114,483,485,442,799,616.00   4/10/2019 0:31    486.00   4/25/2019 7:36   \n",
              "4 13,114,483,499,480,700,928.00  4/12/2019 20:10    565.00  4/25/2019 10:40   \n",
              "\n",
              "   End ms    Dur. (ms)                   IMSI     MSISDN/Number  \\\n",
              "0  662.00 1,823,652.00 208,201,448,079,117.00 33,664,962,239.00   \n",
              "1  606.00 1,365,104.00 208,201,909,211,140.00 33,681,854,413.00   \n",
              "2  652.00 1,361,762.00 208,200,314,458,056.00 33,760,627,129.00   \n",
              "3  171.00 1,321,509.00 208,201,402,342,131.00 33,750,343,200.00   \n",
              "4  954.00 1,089,009.00 208,201,401,415,120.00 33,699,795,932.00   \n",
              "\n",
              "                   IMEI     Last Location Name  ...  Youtube DL (Bytes)  \\\n",
              "0 35,521,209,507,511.00  9.16456699548519E+015  ...       15,854,611.00   \n",
              "1 35,794,009,006,359.00                L77566A  ...       20,247,395.00   \n",
              "2 35,281,510,359,387.00                D42335A  ...       19,725,661.00   \n",
              "3 35,356,610,164,913.00                T21824A  ...       21,388,122.00   \n",
              "4 35,407,009,745,539.00                D88865A  ...       15,259,380.00   \n",
              "\n",
              "   Youtube UL (Bytes)  Netflix DL (Bytes)  Netflix UL (Bytes)  \\\n",
              "0        2,501,332.00        8,198,936.00        9,656,251.00   \n",
              "1       19,111,729.00       18,338,413.00       17,227,132.00   \n",
              "2       14,699,576.00       17,587,794.00        6,163,408.00   \n",
              "3       15,146,643.00       13,994,646.00        1,097,942.00   \n",
              "4       18,962,873.00       17,124,581.00          415,218.00   \n",
              "\n",
              "   Gaming DL (Bytes)  Gaming UL (Bytes)  Other DL (Bytes)  Other UL (Bytes)  \\\n",
              "0     278,082,303.00      14,344,150.00    171,744,450.00      8,814,393.00   \n",
              "1     608,750,074.00       1,170,709.00    526,904,238.00     15,055,145.00   \n",
              "2     229,584,621.00         395,630.00    410,692,588.00      4,215,763.00   \n",
              "3     799,538,153.00      10,849,722.00    749,039,933.00     12,797,283.00   \n",
              "4     527,707,248.00       3,529,801.00    550,709,500.00     13,910,322.00   \n",
              "\n",
              "   Total UL (Bytes)  Total DL (Bytes)  \n",
              "0     36,749,741.00    308,879,636.00  \n",
              "1     53,800,391.00    653,384,965.00  \n",
              "2     27,883,638.00    279,807,335.00  \n",
              "3     43,324,218.00    846,028,530.00  \n",
              "4     38,542,814.00    569,138,589.00  \n",
              "\n",
              "[5 rows x 55 columns]"
            ],
            "text/html": "<div>\n<style scoped>\n    .dataframe tbody tr th:only-of-type {\n        vertical-align: middle;\n    }\n\n    .dataframe tbody tr th {\n        vertical-align: top;\n    }\n\n    .dataframe thead th {\n        text-align: right;\n    }\n</style>\n<table border=\"1\" class=\"dataframe\">\n  <thead>\n    <tr style=\"text-align: right;\">\n      <th></th>\n      <th>Bearer Id</th>\n      <th>Start</th>\n      <th>Start ms</th>\n      <th>End</th>\n      <th>End ms</th>\n      <th>Dur. (ms)</th>\n      <th>IMSI</th>\n      <th>MSISDN/Number</th>\n      <th>IMEI</th>\n      <th>Last Location Name</th>\n      <th>...</th>\n      <th>Youtube DL (Bytes)</th>\n      <th>Youtube UL (Bytes)</th>\n      <th>Netflix DL (Bytes)</th>\n      <th>Netflix UL (Bytes)</th>\n      <th>Gaming DL (Bytes)</th>\n      <th>Gaming UL (Bytes)</th>\n      <th>Other DL (Bytes)</th>\n      <th>Other UL (Bytes)</th>\n      <th>Total UL (Bytes)</th>\n      <th>Total DL (Bytes)</th>\n    </tr>\n  </thead>\n  <tbody>\n    <tr>\n      <th>0</th>\n      <td>13,114,483,460,844,900,352.00</td>\n      <td>4/4/2019 12:01</td>\n      <td>770.00</td>\n      <td>4/25/2019 14:35</td>\n      <td>662.00</td>\n      <td>1,823,652.00</td>\n      <td>208,201,448,079,117.00</td>\n      <td>33,664,962,239.00</td>\n      <td>35,521,209,507,511.00</td>\n      <td>9.16456699548519E+015</td>\n      <td>...</td>\n      <td>15,854,611.00</td>\n      <td>2,501,332.00</td>\n      <td>8,198,936.00</td>\n      <td>9,656,251.00</td>\n      <td>278,082,303.00</td>\n      <td>14,344,150.00</td>\n      <td>171,744,450.00</td>\n      <td>8,814,393.00</td>\n      <td>36,749,741.00</td>\n      <td>308,879,636.00</td>\n    </tr>\n    <tr>\n      <th>1</th>\n      <td>13,114,483,482,878,900,224.00</td>\n      <td>4/9/2019 13:04</td>\n      <td>235.00</td>\n      <td>4/25/2019 8:15</td>\n      <td>606.00</td>\n      <td>1,365,104.00</td>\n      <td>208,201,909,211,140.00</td>\n      <td>33,681,854,413.00</td>\n      <td>35,794,009,006,359.00</td>\n      <td>L77566A</td>\n      <td>...</td>\n      <td>20,247,395.00</td>\n      <td>19,111,729.00</td>\n      <td>18,338,413.00</td>\n      <td>17,227,132.00</td>\n      <td>608,750,074.00</td>\n      <td>1,170,709.00</td>\n      <td>526,904,238.00</td>\n      <td>15,055,145.00</td>\n      <td>53,800,391.00</td>\n      <td>653,384,965.00</td>\n    </tr>\n    <tr>\n      <th>2</th>\n      <td>13,114,483,484,080,500,736.00</td>\n      <td>4/9/2019 17:42</td>\n      <td>1.00</td>\n      <td>4/25/2019 11:58</td>\n      <td>652.00</td>\n      <td>1,361,762.00</td>\n      <td>208,200,314,458,056.00</td>\n      <td>33,760,627,129.00</td>\n      <td>35,281,510,359,387.00</td>\n      <td>D42335A</td>\n      <td>...</td>\n      <td>19,725,661.00</td>\n      <td>14,699,576.00</td>\n      <td>17,587,794.00</td>\n      <td>6,163,408.00</td>\n      <td>229,584,621.00</td>\n      <td>395,630.00</td>\n      <td>410,692,588.00</td>\n      <td>4,215,763.00</td>\n      <td>27,883,638.00</td>\n      <td>279,807,335.00</td>\n    </tr>\n    <tr>\n      <th>3</th>\n      <td>13,114,483,485,442,799,616.00</td>\n      <td>4/10/2019 0:31</td>\n      <td>486.00</td>\n      <td>4/25/2019 7:36</td>\n      <td>171.00</td>\n      <td>1,321,509.00</td>\n      <td>208,201,402,342,131.00</td>\n      <td>33,750,343,200.00</td>\n      <td>35,356,610,164,913.00</td>\n      <td>T21824A</td>\n      <td>...</td>\n      <td>21,388,122.00</td>\n      <td>15,146,643.00</td>\n      <td>13,994,646.00</td>\n      <td>1,097,942.00</td>\n      <td>799,538,153.00</td>\n      <td>10,849,722.00</td>\n      <td>749,039,933.00</td>\n      <td>12,797,283.00</td>\n      <td>43,324,218.00</td>\n      <td>846,028,530.00</td>\n    </tr>\n    <tr>\n      <th>4</th>\n      <td>13,114,483,499,480,700,928.00</td>\n      <td>4/12/2019 20:10</td>\n      <td>565.00</td>\n      <td>4/25/2019 10:40</td>\n      <td>954.00</td>\n      <td>1,089,009.00</td>\n      <td>208,201,401,415,120.00</td>\n      <td>33,699,795,932.00</td>\n      <td>35,407,009,745,539.00</td>\n      <td>D88865A</td>\n      <td>...</td>\n      <td>15,259,380.00</td>\n      <td>18,962,873.00</td>\n      <td>17,124,581.00</td>\n      <td>415,218.00</td>\n      <td>527,707,248.00</td>\n      <td>3,529,801.00</td>\n      <td>550,709,500.00</td>\n      <td>13,910,322.00</td>\n      <td>38,542,814.00</td>\n      <td>569,138,589.00</td>\n    </tr>\n  </tbody>\n</table>\n<p>5 rows × 55 columns</p>\n</div>"
          },
          "metadata": {},
          "execution_count": 206
        }
      ]
    },
    {
      "cell_type": "code",
      "metadata": {
        "id": "HN2mNEpLmUEf"
      },
      "source": [
        "# column names\n",
        "db.columns.tolist()"
      ],
      "execution_count": 207,
      "outputs": [
        {
          "output_type": "execute_result",
          "data": {
            "text/plain": [
              "['Bearer Id',\n",
              " 'Start',\n",
              " 'Start ms',\n",
              " 'End',\n",
              " 'End ms',\n",
              " 'Dur. (ms)',\n",
              " 'IMSI',\n",
              " 'MSISDN/Number',\n",
              " 'IMEI',\n",
              " 'Last Location Name',\n",
              " 'Avg RTT DL (ms)',\n",
              " 'Avg RTT UL (ms)',\n",
              " 'Avg Bearer TP DL (kbps)',\n",
              " 'Avg Bearer TP UL (kbps)',\n",
              " 'TCP DL Retrans. Vol (Bytes)',\n",
              " 'TCP UL Retrans. Vol (Bytes)',\n",
              " 'DL TP < 50 Kbps (%)',\n",
              " '50 Kbps < DL TP < 250 Kbps (%)',\n",
              " '250 Kbps < DL TP < 1 Mbps (%)',\n",
              " 'DL TP > 1 Mbps (%)',\n",
              " 'UL TP < 10 Kbps (%)',\n",
              " '10 Kbps < UL TP < 50 Kbps (%)',\n",
              " '50 Kbps < UL TP < 300 Kbps (%)',\n",
              " 'UL TP > 300 Kbps (%)',\n",
              " 'HTTP DL (Bytes)',\n",
              " 'HTTP UL (Bytes)',\n",
              " 'Activity Duration DL (ms)',\n",
              " 'Activity Duration UL (ms)',\n",
              " 'Dur. (ms).1',\n",
              " 'Handset Manufacturer',\n",
              " 'Handset Type',\n",
              " 'Nb of sec with 125000B < Vol DL',\n",
              " 'Nb of sec with 1250B < Vol UL < 6250B',\n",
              " 'Nb of sec with 31250B < Vol DL < 125000B',\n",
              " 'Nb of sec with 37500B < Vol UL',\n",
              " 'Nb of sec with 6250B < Vol DL < 31250B',\n",
              " 'Nb of sec with 6250B < Vol UL < 37500B',\n",
              " 'Nb of sec with Vol DL < 6250B',\n",
              " 'Nb of sec with Vol UL < 1250B',\n",
              " 'Social Media DL (Bytes)',\n",
              " 'Social Media UL (Bytes)',\n",
              " 'Google DL (Bytes)',\n",
              " 'Google UL (Bytes)',\n",
              " 'Email DL (Bytes)',\n",
              " 'Email UL (Bytes)',\n",
              " 'Youtube DL (Bytes)',\n",
              " 'Youtube UL (Bytes)',\n",
              " 'Netflix DL (Bytes)',\n",
              " 'Netflix UL (Bytes)',\n",
              " 'Gaming DL (Bytes)',\n",
              " 'Gaming UL (Bytes)',\n",
              " 'Other DL (Bytes)',\n",
              " 'Other UL (Bytes)',\n",
              " 'Total UL (Bytes)',\n",
              " 'Total DL (Bytes)']"
            ]
          },
          "metadata": {},
          "execution_count": 207
        }
      ]
    },
    {
      "source": [
        "EXPLORING THE DATAFRAME"
      ],
      "cell_type": "markdown",
      "metadata": {}
    },
    {
      "cell_type": "code",
      "execution_count": 208,
      "metadata": {},
      "outputs": [
        {
          "output_type": "stream",
          "name": "stdout",
          "text": [
            "<class 'pandas.core.frame.DataFrame'>\nRangeIndex: 150001 entries, 0 to 150000\nData columns (total 55 columns):\n #   Column                                    Non-Null Count   Dtype  \n---  ------                                    --------------   -----  \n 0   Bearer Id                                 149010 non-null  float64\n 1   Start                                     150000 non-null  object \n 2   Start ms                                  150000 non-null  float64\n 3   End                                       150000 non-null  object \n 4   End ms                                    150000 non-null  float64\n 5   Dur. (ms)                                 150000 non-null  float64\n 6   IMSI                                      149431 non-null  float64\n 7   MSISDN/Number                             148935 non-null  float64\n 8   IMEI                                      149429 non-null  float64\n 9   Last Location Name                        148848 non-null  object \n 10  Avg RTT DL (ms)                           122172 non-null  float64\n 11  Avg RTT UL (ms)                           122189 non-null  float64\n 12  Avg Bearer TP DL (kbps)                   150000 non-null  float64\n 13  Avg Bearer TP UL (kbps)                   150000 non-null  float64\n 14  TCP DL Retrans. Vol (Bytes)               61855 non-null   float64\n 15  TCP UL Retrans. Vol (Bytes)               53352 non-null   float64\n 16  DL TP < 50 Kbps (%)                       149247 non-null  float64\n 17  50 Kbps < DL TP < 250 Kbps (%)            149247 non-null  float64\n 18  250 Kbps < DL TP < 1 Mbps (%)             149247 non-null  float64\n 19  DL TP > 1 Mbps (%)                        149247 non-null  float64\n 20  UL TP < 10 Kbps (%)                       149209 non-null  float64\n 21  10 Kbps < UL TP < 50 Kbps (%)             149209 non-null  float64\n 22  50 Kbps < UL TP < 300 Kbps (%)            149209 non-null  float64\n 23  UL TP > 300 Kbps (%)                      149209 non-null  float64\n 24  HTTP DL (Bytes)                           68527 non-null   float64\n 25  HTTP UL (Bytes)                           68191 non-null   float64\n 26  Activity Duration DL (ms)                 150000 non-null  float64\n 27  Activity Duration UL (ms)                 150000 non-null  float64\n 28  Dur. (ms).1                               150000 non-null  float64\n 29  Handset Manufacturer                      149429 non-null  object \n 30  Handset Type                              149429 non-null  object \n 31  Nb of sec with 125000B < Vol DL           52463 non-null   float64\n 32  Nb of sec with 1250B < Vol UL < 6250B     57107 non-null   float64\n 33  Nb of sec with 31250B < Vol DL < 125000B  56415 non-null   float64\n 34  Nb of sec with 37500B < Vol UL            19747 non-null   float64\n 35  Nb of sec with 6250B < Vol DL < 31250B    61684 non-null   float64\n 36  Nb of sec with 6250B < Vol UL < 37500B    38158 non-null   float64\n 37  Nb of sec with Vol DL < 6250B             149246 non-null  float64\n 38  Nb of sec with Vol UL < 1250B             149208 non-null  float64\n 39  Social Media DL (Bytes)                   150001 non-null  float64\n 40  Social Media UL (Bytes)                   150001 non-null  float64\n 41  Google DL (Bytes)                         150001 non-null  float64\n 42  Google UL (Bytes)                         150001 non-null  float64\n 43  Email DL (Bytes)                          150001 non-null  float64\n 44  Email UL (Bytes)                          150001 non-null  float64\n 45  Youtube DL (Bytes)                        150001 non-null  float64\n 46  Youtube UL (Bytes)                        150001 non-null  float64\n 47  Netflix DL (Bytes)                        150001 non-null  float64\n 48  Netflix UL (Bytes)                        150001 non-null  float64\n 49  Gaming DL (Bytes)                         150001 non-null  float64\n 50  Gaming UL (Bytes)                         150001 non-null  float64\n 51  Other DL (Bytes)                          150001 non-null  float64\n 52  Other UL (Bytes)                          150001 non-null  float64\n 53  Total UL (Bytes)                          150000 non-null  float64\n 54  Total DL (Bytes)                          150000 non-null  float64\ndtypes: float64(50), object(5)\nmemory usage: 62.9+ MB\n"
          ]
        }
      ],
      "source": [
        "# checking data types\n",
        "db.info()"
      ]
    },
    {
      "cell_type": "code",
      "execution_count": 209,
      "metadata": {},
      "outputs": [
        {
          "output_type": "stream",
          "name": "stdout",
          "text": [
            " There are 150001 rows and 55 columns\n"
          ]
        }
      ],
      "source": [
        "# number of data points\n",
        "print(f\" There are {db.shape[0]} rows and {db.shape[1]} columns\")"
      ]
    },
    {
      "cell_type": "code",
      "execution_count": 210,
      "metadata": {},
      "outputs": [
        {
          "output_type": "execute_result",
          "data": {
            "text/plain": [
              "'Apple'"
            ]
          },
          "metadata": {},
          "execution_count": 210
        }
      ],
      "source": [
        "# Finding mode for manufacturer\n",
        "db.mode()['Handset Manufacturer'][0]"
      ]
    },
    {
      "cell_type": "code",
      "execution_count": 211,
      "metadata": {},
      "outputs": [
        {
          "output_type": "execute_result",
          "data": {
            "text/plain": [
              "'Huawei B528S-23A'"
            ]
          },
          "metadata": {},
          "execution_count": 211
        }
      ],
      "source": [
        "# Finding mode for handset type\n",
        "db.mode()['Handset Type'][0]"
      ]
    },
    {
      "cell_type": "code",
      "execution_count": 212,
      "metadata": {},
      "outputs": [
        {
          "output_type": "execute_result",
          "data": {
            "text/plain": [
              "count     149429\n",
              "unique       170\n",
              "top        Apple\n",
              "freq       59565\n",
              "Name: Handset Manufacturer, dtype: object"
            ]
          },
          "metadata": {},
          "execution_count": 212
        }
      ],
      "source": [
        "# selecting columns of interest\n",
        "manufacturer = db['Handset Manufacturer']\n",
        "manufacturer.head()\n",
        "manufacturer.describe()"
      ]
    },
    {
      "source": [
        "**Top 10 Handsets used by Customers**"
      ],
      "cell_type": "markdown",
      "metadata": {}
    },
    {
      "cell_type": "code",
      "execution_count": 213,
      "metadata": {},
      "outputs": [
        {
          "output_type": "execute_result",
          "data": {
            "text/plain": [
              "['Huawei B528S-23A',\n",
              " 'Apple iPhone 6S (A1688)',\n",
              " 'Apple iPhone 6 (A1586)',\n",
              " 'undefined',\n",
              " 'Apple iPhone 7 (A1778)',\n",
              " 'Apple iPhone Se (A1723)',\n",
              " 'Apple iPhone 8 (A1905)',\n",
              " 'Apple iPhone Xr (A2105)',\n",
              " 'Samsung Galaxy S8 (Sm-G950F)',\n",
              " 'Apple iPhone X (A1901)']"
            ]
          },
          "metadata": {},
          "execution_count": 213
        }
      ],
      "source": [
        "# Getting top 10 handsets used by customers\n",
        "n = 10\n",
        "db['Handset Type'].value_counts()[:n].index.tolist()"
      ]
    },
    {
      "source": [
        "**Top 3 Handset Manufacturers**"
      ],
      "cell_type": "markdown",
      "metadata": {}
    },
    {
      "cell_type": "code",
      "execution_count": 214,
      "metadata": {},
      "outputs": [
        {
          "output_type": "execute_result",
          "data": {
            "text/plain": [
              "['Apple', 'Samsung', 'Huawei']"
            ]
          },
          "metadata": {},
          "execution_count": 214
        }
      ],
      "source": [
        "# Getting the top 3 handset manufacturers\n",
        "n = 3\n",
        "manufacturer.value_counts()[:n].index.tolist()"
      ]
    },
    {
      "source": [
        "**Most popular handset type**"
      ],
      "cell_type": "markdown",
      "metadata": {}
    },
    {
      "cell_type": "code",
      "execution_count": 215,
      "metadata": {},
      "outputs": [
        {
          "output_type": "execute_result",
          "data": {
            "text/plain": [
              "count               149429\n",
              "unique                1396\n",
              "top       Huawei B528S-23A\n",
              "freq                 19752\n",
              "Name: Handset Type, dtype: object"
            ]
          },
          "metadata": {},
          "execution_count": 215
        }
      ],
      "source": [
        "mobitype = db['Handset Type']\n",
        "mobitype.head()\n",
        "mobitype.describe()"
      ]
    },
    {
      "source": [
        "**APPLE BY ROW LOGIC**"
      ],
      "cell_type": "markdown",
      "metadata": {}
    },
    {
      "cell_type": "code",
      "execution_count": 216,
      "metadata": {},
      "outputs": [
        {
          "output_type": "stream",
          "name": "stdout",
          "text": [
            "<class 'pandas.core.frame.DataFrame'>\nInt64Index: 59565 entries, 22 to 149998\nData columns (total 55 columns):\n #   Column                                    Non-Null Count  Dtype  \n---  ------                                    --------------  -----  \n 0   Bearer Id                                 59440 non-null  float64\n 1   Start                                     59565 non-null  object \n 2   Start ms                                  59565 non-null  float64\n 3   End                                       59565 non-null  object \n 4   End ms                                    59565 non-null  float64\n 5   Dur. (ms)                                 59565 non-null  float64\n 6   IMSI                                      59565 non-null  float64\n 7   MSISDN/Number                             59464 non-null  float64\n 8   IMEI                                      59565 non-null  float64\n 9   Last Location Name                        59405 non-null  object \n 10  Avg RTT DL (ms)                           58452 non-null  float64\n 11  Avg RTT UL (ms)                           58456 non-null  float64\n 12  Avg Bearer TP DL (kbps)                   59565 non-null  float64\n 13  Avg Bearer TP UL (kbps)                   59565 non-null  float64\n 14  TCP DL Retrans. Vol (Bytes)               15609 non-null  float64\n 15  TCP UL Retrans. Vol (Bytes)               13946 non-null  float64\n 16  DL TP < 50 Kbps (%)                       59419 non-null  float64\n 17  50 Kbps < DL TP < 250 Kbps (%)            59419 non-null  float64\n 18  250 Kbps < DL TP < 1 Mbps (%)             59419 non-null  float64\n 19  DL TP > 1 Mbps (%)                        59419 non-null  float64\n 20  UL TP < 10 Kbps (%)                       59475 non-null  float64\n 21  10 Kbps < UL TP < 50 Kbps (%)             59475 non-null  float64\n 22  50 Kbps < UL TP < 300 Kbps (%)            59475 non-null  float64\n 23  UL TP > 300 Kbps (%)                      59475 non-null  float64\n 24  HTTP DL (Bytes)                           17183 non-null  float64\n 25  HTTP UL (Bytes)                           17217 non-null  float64\n 26  Activity Duration DL (ms)                 59565 non-null  float64\n 27  Activity Duration UL (ms)                 59565 non-null  float64\n 28  Dur. (ms).1                               59565 non-null  float64\n 29  Handset Manufacturer                      59565 non-null  object \n 30  Handset Type                              59565 non-null  object \n 31  Nb of sec with 125000B < Vol DL           12848 non-null  float64\n 32  Nb of sec with 1250B < Vol UL < 6250B     14058 non-null  float64\n 33  Nb of sec with 31250B < Vol DL < 125000B  14262 non-null  float64\n 34  Nb of sec with 37500B < Vol UL            5280 non-null   float64\n 35  Nb of sec with 6250B < Vol DL < 31250B    15783 non-null  float64\n 36  Nb of sec with 6250B < Vol UL < 37500B    9224 non-null   float64\n 37  Nb of sec with Vol DL < 6250B             59419 non-null  float64\n 38  Nb of sec with Vol UL < 1250B             59475 non-null  float64\n 39  Social Media DL (Bytes)                   59565 non-null  float64\n 40  Social Media UL (Bytes)                   59565 non-null  float64\n 41  Google DL (Bytes)                         59565 non-null  float64\n 42  Google UL (Bytes)                         59565 non-null  float64\n 43  Email DL (Bytes)                          59565 non-null  float64\n 44  Email UL (Bytes)                          59565 non-null  float64\n 45  Youtube DL (Bytes)                        59565 non-null  float64\n 46  Youtube UL (Bytes)                        59565 non-null  float64\n 47  Netflix DL (Bytes)                        59565 non-null  float64\n 48  Netflix UL (Bytes)                        59565 non-null  float64\n 49  Gaming DL (Bytes)                         59565 non-null  float64\n 50  Gaming UL (Bytes)                         59565 non-null  float64\n 51  Other DL (Bytes)                          59565 non-null  float64\n 52  Other UL (Bytes)                          59565 non-null  float64\n 53  Total UL (Bytes)                          59565 non-null  float64\n 54  Total DL (Bytes)                          59565 non-null  float64\ndtypes: float64(50), object(5)\nmemory usage: 25.4+ MB\n"
          ]
        }
      ],
      "source": [
        "# Using logic on rows to select only rows with apple as manufacturer\n",
        "apple = db[manufacturer == 'Apple']\n",
        "apple.info()"
      ]
    },
    {
      "source": [
        "**APPLE top 5**"
      ],
      "cell_type": "markdown",
      "metadata": {}
    },
    {
      "cell_type": "code",
      "execution_count": 217,
      "metadata": {},
      "outputs": [
        {
          "output_type": "execute_result",
          "data": {
            "text/plain": [
              "['Apple iPhone 6S (A1688)',\n",
              " 'Apple iPhone 6 (A1586)',\n",
              " 'Apple iPhone 7 (A1778)',\n",
              " 'Apple iPhone Se (A1723)',\n",
              " 'Apple iPhone 8 (A1905)']"
            ]
          },
          "metadata": {},
          "execution_count": 217
        }
      ],
      "source": [
        "# Getting the top 5 handset types in apple\n",
        "n = 5\n",
        "apple['Handset Type'].value_counts()[:n].index.tolist()"
      ]
    },
    {
      "source": [
        "**SAMSUNG BY ROW LOGIC**"
      ],
      "cell_type": "markdown",
      "metadata": {}
    },
    {
      "cell_type": "code",
      "execution_count": 218,
      "metadata": {},
      "outputs": [
        {
          "output_type": "stream",
          "name": "stdout",
          "text": [
            "<class 'pandas.core.frame.DataFrame'>\nInt64Index: 40839 entries, 0 to 149994\nData columns (total 55 columns):\n #   Column                                    Non-Null Count  Dtype  \n---  ------                                    --------------  -----  \n 0   Bearer Id                                 40689 non-null  float64\n 1   Start                                     40839 non-null  object \n 2   Start ms                                  40839 non-null  float64\n 3   End                                       40839 non-null  object \n 4   End ms                                    40839 non-null  float64\n 5   Dur. (ms)                                 40839 non-null  float64\n 6   IMSI                                      40839 non-null  float64\n 7   MSISDN/Number                             40579 non-null  float64\n 8   IMEI                                      40839 non-null  float64\n 9   Last Location Name                        40652 non-null  object \n 10  Avg RTT DL (ms)                           19571 non-null  float64\n 11  Avg RTT UL (ms)                           19577 non-null  float64\n 12  Avg Bearer TP DL (kbps)                   40839 non-null  float64\n 13  Avg Bearer TP UL (kbps)                   40839 non-null  float64\n 14  TCP DL Retrans. Vol (Bytes)               14130 non-null  float64\n 15  TCP UL Retrans. Vol (Bytes)               10812 non-null  float64\n 16  DL TP < 50 Kbps (%)                       40452 non-null  float64\n 17  50 Kbps < DL TP < 250 Kbps (%)            40452 non-null  float64\n 18  250 Kbps < DL TP < 1 Mbps (%)             40452 non-null  float64\n 19  DL TP > 1 Mbps (%)                        40452 non-null  float64\n 20  UL TP < 10 Kbps (%)                       40722 non-null  float64\n 21  10 Kbps < UL TP < 50 Kbps (%)             40722 non-null  float64\n 22  50 Kbps < UL TP < 300 Kbps (%)            40722 non-null  float64\n 23  UL TP > 300 Kbps (%)                      40722 non-null  float64\n 24  HTTP DL (Bytes)                           15982 non-null  float64\n 25  HTTP UL (Bytes)                           16027 non-null  float64\n 26  Activity Duration DL (ms)                 40839 non-null  float64\n 27  Activity Duration UL (ms)                 40839 non-null  float64\n 28  Dur. (ms).1                               40839 non-null  float64\n 29  Handset Manufacturer                      40839 non-null  object \n 30  Handset Type                              40839 non-null  object \n 31  Nb of sec with 125000B < Vol DL           10915 non-null  float64\n 32  Nb of sec with 1250B < Vol UL < 6250B     12794 non-null  float64\n 33  Nb of sec with 31250B < Vol DL < 125000B  12224 non-null  float64\n 34  Nb of sec with 37500B < Vol UL            2514 non-null   float64\n 35  Nb of sec with 6250B < Vol DL < 31250B    14163 non-null  float64\n 36  Nb of sec with 6250B < Vol UL < 37500B    6737 non-null   float64\n 37  Nb of sec with Vol DL < 6250B             40452 non-null  float64\n 38  Nb of sec with Vol UL < 1250B             40722 non-null  float64\n 39  Social Media DL (Bytes)                   40839 non-null  float64\n 40  Social Media UL (Bytes)                   40839 non-null  float64\n 41  Google DL (Bytes)                         40839 non-null  float64\n 42  Google UL (Bytes)                         40839 non-null  float64\n 43  Email DL (Bytes)                          40839 non-null  float64\n 44  Email UL (Bytes)                          40839 non-null  float64\n 45  Youtube DL (Bytes)                        40839 non-null  float64\n 46  Youtube UL (Bytes)                        40839 non-null  float64\n 47  Netflix DL (Bytes)                        40839 non-null  float64\n 48  Netflix UL (Bytes)                        40839 non-null  float64\n 49  Gaming DL (Bytes)                         40839 non-null  float64\n 50  Gaming UL (Bytes)                         40839 non-null  float64\n 51  Other DL (Bytes)                          40839 non-null  float64\n 52  Other UL (Bytes)                          40839 non-null  float64\n 53  Total UL (Bytes)                          40839 non-null  float64\n 54  Total DL (Bytes)                          40839 non-null  float64\ndtypes: float64(50), object(5)\nmemory usage: 17.4+ MB\n"
          ]
        }
      ],
      "source": [
        "# Using logic on rows to select only rows with samsung as manufacturer\n",
        "samsung = db[manufacturer == 'Samsung']\n",
        "samsung.info()"
      ]
    },
    {
      "source": [
        "**SAMSUNG top 5**"
      ],
      "cell_type": "markdown",
      "metadata": {}
    },
    {
      "cell_type": "code",
      "execution_count": 219,
      "metadata": {},
      "outputs": [
        {
          "output_type": "execute_result",
          "data": {
            "text/plain": [
              "['Samsung Galaxy S8 (Sm-G950F)',\n",
              " 'Samsung Galaxy A5 Sm-A520F',\n",
              " 'Samsung Galaxy J5 (Sm-J530)',\n",
              " 'Samsung Galaxy J3 (Sm-J330)',\n",
              " 'Samsung Galaxy S7 (Sm-G930X)']"
            ]
          },
          "metadata": {},
          "execution_count": 219
        }
      ],
      "source": [
        "# Getting the top 5 handset types in samsung\n",
        "n = 5\n",
        "samsung['Handset Type'].value_counts()[:n].index.tolist()"
      ]
    },
    {
      "source": [
        "**HUAWEI BY ROW LOGIC**"
      ],
      "cell_type": "markdown",
      "metadata": {}
    },
    {
      "cell_type": "code",
      "execution_count": null,
      "metadata": {},
      "outputs": [],
      "source": [
        "# Using logic on rows to select only rows with huawei as manufacturer\n",
        "huawei = db[manufacturer == 'Huawei']\n",
        "huawei.info()"
      ]
    },
    {
      "source": [
        "**HUAWEI top 5**"
      ],
      "cell_type": "markdown",
      "metadata": {}
    },
    {
      "cell_type": "code",
      "execution_count": null,
      "metadata": {},
      "outputs": [],
      "source": [
        "# Getting the top 5 handset types in huawei\n",
        "n = 5\n",
        "huawei['Handset Type'].value_counts()[:n].index.tolist()"
      ]
    },
    {
      "source": [
        "**INTEPRETATION AND RECOMMENDATION**\n",
        "\n",
        "The top 3 phone manufactures by users are Apple(59565), Samsung(40839), and Huawei(34423). Marketing campaigns can therefore target these users and especially with the following handset types: \n",
        "Apple iPhone 6S (A1688), Apple iPhone 6 (A1586), Apple iPhone 7 (A1778), Apple iPhone Se (A1723), Apple iPhone 8 (A1905), Samsung Galaxy S8 (Sm-G950F), Samsung Galaxy A5 Sm-A520F, Samsung Galaxy J5 (Sm-J530), Samsung Galaxy J3 (Sm-J330), Samsung Galaxy S7 (Sm-G930X), Huawei B528S-23A, Huawei E5180, Huawei P20 Lite Huawei Nova 3E, Huawei P20, Huawei Y6 2018.\n",
        "\n",
        "While the Apple brand is majorly popular and dorminantly used, Huawei B528S-23A is the most popular handset with 19752 customers."
      ],
      "cell_type": "markdown",
      "metadata": {}
    },
    {
      "source": [
        "# **ASSIGNMENT 1.1**"
      ],
      "cell_type": "markdown",
      "metadata": {}
    },
    {
      "source": [
        "**Transforming the Data (Cleaning, Missing Values)**"
      ],
      "cell_type": "markdown",
      "metadata": {}
    },
    {
      "cell_type": "code",
      "execution_count": null,
      "metadata": {},
      "outputs": [],
      "source": [
        "# summary statistics\n",
        "db.describe()"
      ]
    },
    {
      "cell_type": "code",
      "execution_count": null,
      "metadata": {},
      "outputs": [],
      "source": [
        "# checking data types\n",
        "db.info()"
      ]
    },
    {
      "cell_type": "code",
      "execution_count": null,
      "metadata": {},
      "outputs": [],
      "source": [
        "df_clean.columns.tolist()"
      ]
    },
    {
      "cell_type": "code",
      "execution_count": null,
      "metadata": {},
      "outputs": [],
      "source": [
        "# how many missing values exist or better still what is the % of missing values in the dataset?\n",
        "def percent_missing(df):\n",
        "\n",
        "    # Calculate total number of cells in dataframe\n",
        "    totalCells = np.product(df.shape)\n",
        "\n",
        "    # Count number of missing values per column\n",
        "    missingCount = df.isnull().sum()\n",
        "\n",
        "    # Calculate total number of missing values\n",
        "    totalMissing = missingCount.sum()\n",
        "\n",
        "    # Calculate percentage of missing values\n",
        "    print(\"The Telcom dataset contains\", round(((totalMissing/totalCells) * 100), 2), \"%\", \"missing values.\")\n",
        "\n",
        "percent_missing(db)"
      ]
    },
    {
      "cell_type": "code",
      "execution_count": null,
      "metadata": {},
      "outputs": [],
      "source": [
        "# Checking for missing values\n",
        "db.isna().sum()"
      ]
    },
    {
      "cell_type": "code",
      "execution_count": null,
      "metadata": {},
      "outputs": [],
      "source": [
        "# drop columns with more than 30% missing values since filling this will greatly affect the dataset\n",
        "df_clean = db.drop(['TCP DL Retrans. Vol (Bytes)', 'TCP UL Retrans. Vol (Bytes)', 'HTTP DL (Bytes)', 'HTTP UL (Bytes)', 'Nb of sec with 125000B < Vol DL', 'Nb of sec with 1250B < Vol UL < 6250B', 'Nb of sec with 31250B < Vol DL < 125000B', 'Nb of sec with 37500B < Vol UL', 'Nb of sec with 6250B < Vol DL < 31250B', 'Nb of sec with 6250B < Vol UL < 37500B',], axis=1)\n",
        "df_clean.shape"
      ]
    },
    {
      "cell_type": "code",
      "execution_count": null,
      "metadata": {},
      "outputs": [],
      "source": [
        "# dropping rows for columns with Unidue identifiers for customer data since we cannot fill missing values with existing data\n",
        "df_clean.dropna(subset = ['MSISDN/Number'], inplace=True)\n",
        "df_clean.dropna(subset = ['Bearer Id'], inplace=True)"
      ]
    },
    {
      "source": [
        "**Filling Missing Values**"
      ],
      "cell_type": "markdown",
      "metadata": {}
    },
    {
      "cell_type": "code",
      "execution_count": null,
      "metadata": {},
      "outputs": [],
      "source": [
        "# fill missing with ffill method for columns ('Nb of sec with Vol DL < 6250B','Nb of sec with Vol UL < 1250B', 'Avg RTT DL (ms)', 'Avg RTT UL (ms)', 'DL TP < 50 Kbps (%)', '50 Kbps < DL TP < 250 Kbps (%)', '250 Kbps < DL TP < 1 Mbps (%)', 'DL TP > 1 Mbps (%)', 'UL TP < 10 Kbps (%)', '10 Kbps < UL TP < 50 Kbps (%)', '50 Kbps < UL TP < 300 Kbps (%)', 'UL TP > 300 Kbps (%)')\n",
        "\n",
        "def fix_missing_ffill(df, col):\n",
        "    df[col] = df[col].fillna(method='ffill')\n",
        "    return df[col]\n",
        "\n",
        "\n",
        "def fix_missing_bfill(df, col):\n",
        "    df[col] = df[col].fillna(method='bfill')\n",
        "    return df[col]\n",
        "\n",
        "df_clean['Nb of sec with Vol DL < 6250B'] = fix_missing_ffill(df_clean, 'Nb of sec with Vol DL < 6250B')\n",
        "df_clean['Nb of sec with Vol UL < 1250B'] = fix_missing_ffill(df_clean, 'Nb of sec with Vol UL < 1250B')\n",
        "df_clean['Avg RTT DL (ms)'] = fix_missing_ffill(df_clean, 'Avg RTT DL (ms)')\n",
        "df_clean['Avg RTT UL (ms)'] = fix_missing_ffill(df_clean, 'Avg RTT UL (ms)')\n",
        "#df_clean['DL TP < 50 Kbps (%)'] = fix_missing_ffill(df_clean, 'DL TP < 50 Kbps (%)')\n",
        "#df_clean['50 Kbps < DL TP < 250 Kbps (%)'] = fix_missing_ffill(df_clean, '50 Kbps < DL TP < 250 Kbps (%)')\n",
        "#df_clean['250 Kbps < DL TP < 1 Mbps (%)'] = fix_missing_ffill(df_clean, '250 Kbps < DL TP < 1 Mbps (%)')\n",
        "#df_clean['DL TP > 1 Mbps (%)'] = fix_missing_ffill(df_clean, 'DL TP > 1 Mbps (%)')\n",
        "#df_clean['UL TP < 10 Kbps (%)'] = fix_missing_ffill(df_clean, 'UL TP < 10 Kbps (%)')\n",
        "#df_clean['10 Kbps < UL TP < 50 Kbps (%)'] = fix_missing_ffill(df_clean, '10 Kbps < UL TP < 50 Kbps (%)')\n",
        "#df_clean['50 Kbps < UL TP < 300 Kbps (%)'] = fix_missing_ffill(df_clean, '50 Kbps < UL TP < 300 Kbps (%)')\n",
        "#df_clean['UL TP > 300 Kbps (%)'] = fix_missing_ffill(df_clean, 'UL TP > 300 Kbps (%)')\n",
        "\n",
        "# fill 'Handset Manufacturer' column with mode \n",
        "df_clean['Handset Manufacturer'] = df_clean['Handset Manufacturer'].fillna(df_clean['Handset Manufacturer'].mode()[0])\n",
        "# fill 'Handset Type' column with mode \n",
        "df_clean['Handset Type'] = df_clean['Handset Type'].fillna(df_clean['Handset Type'].mode()[0])\n",
        "# fill 'Last Location Name' column with mode \n",
        "df_clean['Last Location Name'] = df_clean['Last Location Name'].fillna(df_clean['Last Location Name'].mode()[0])\n",
        "\n",
        "df_clean.describe()"
      ]
    },
    {
      "cell_type": "code",
      "execution_count": null,
      "metadata": {},
      "outputs": [],
      "source": [
        "# Checking for missing values and then shape\n",
        "df_clean.isna().sum()\n",
        "df_clean.shape"
      ]
    },
    {
      "cell_type": "code",
      "execution_count": null,
      "metadata": {},
      "outputs": [],
      "source": [
        "# Checking for missing values\n",
        "df_clean.isna().sum()"
      ]
    },
    {
      "source": [
        "**SELECT COLUMNS OF INTEREST AND GET AGGREGATE**\n"
      ],
      "cell_type": "markdown",
      "metadata": {}
    },
    {
      "cell_type": "code",
      "execution_count": null,
      "metadata": {},
      "outputs": [],
      "source": [
        "#df_clean[['MSISDN/Number', 'Dur. (ms)', 'Social Media DL (Bytes)', 'Social Media UL (Bytes)', 'Google DL (Bytes)', 'Google UL (Bytes)', 'Email DL (Bytes)', 'Email UL (Bytes)', 'Youtube DL (Bytes)', 'Youtube UL (Bytes)', 'Netflix DL (Bytes)', Netflix UL (Bytes)', 'Gaming DL (Bytes)', 'Gaming UL (Bytes)', 'Other DL (Bytes)', 'Other UL (Bytes)', 'Total UL (Bytes)', 'Total DL (Bytes)']]"
      ]
    },
    {
      "source": [
        "**No. of xDR Sessions**"
      ],
      "cell_type": "markdown",
      "metadata": {}
    },
    {
      "cell_type": "code",
      "execution_count": null,
      "metadata": {},
      "outputs": [],
      "source": [
        "xDR = df_clean.groupby(['MSISDN/Number'])['Dur. (ms)'].count()\n",
        "xDR.head()"
      ]
    },
    {
      "source": [
        "**Session Durantion**"
      ],
      "cell_type": "markdown",
      "metadata": {}
    },
    {
      "cell_type": "code",
      "execution_count": null,
      "metadata": {},
      "outputs": [],
      "source": [
        "# Sessions Durathion\n",
        "Sessions = df_clean[['Dur. (ms)', 'Dur. (ms).1']]\n",
        "Sessions.aggregate([np.sum, 'mean'], axis=0)\n",
        "df_session_duration = df_clean.groupby(['IMSI'])['Dur. (ms)'].sum()\n",
        "df_session_duration.head()"
      ]
    },
    {
      "source": [
        "**Total UL and DL Data**"
      ],
      "cell_type": "markdown",
      "metadata": {}
    },
    {
      "cell_type": "code",
      "execution_count": null,
      "metadata": {},
      "outputs": [],
      "source": [
        "# aggregate of the total download and upload data\n",
        "Total_Data = df_clean[['Total UL (Bytes)', 'Total DL (Bytes)']]\n",
        "Total_Data.aggregate([np.sum, 'mean'], axis=0)\n",
        "df_total_data = df_clean.groupby(['IMSI'])['Total UL (Bytes)', 'Total DL (Bytes)'].sum()\n",
        "df_total_data.head()"
      ]
    },
    {
      "source": [
        "**Social Media Sessions**"
      ],
      "cell_type": "markdown",
      "metadata": {}
    },
    {
      "cell_type": "code",
      "execution_count": null,
      "metadata": {},
      "outputs": [],
      "source": [
        "#aggregate of social media sessions\n",
        "social_media = df_clean[['Social Media DL (Bytes)', 'Social Media UL (Bytes)']]\n",
        "social_media.aggregate([np.sum, 'mean'], axis=0)\n",
        "df_social = df_clean.groupby(['IMSI'])['Social Media DL (Bytes)', 'Social Media UL (Bytes)'].sum()\n",
        "df_social.head()"
      ]
    },
    {
      "source": [
        "**Google Sessions**"
      ],
      "cell_type": "markdown",
      "metadata": {}
    },
    {
      "cell_type": "code",
      "execution_count": null,
      "metadata": {},
      "outputs": [],
      "source": [
        "#aggregate of google sessions\n",
        "google = df_clean[['Google DL (Bytes)', 'Google UL (Bytes)']]\n",
        "google.aggregate([np.sum, 'mean'], axis=0)\n",
        "df_google = df_clean.groupby(['IMSI'])['Google DL (Bytes)', 'Google UL (Bytes)'].sum()\n",
        "df_google.head()"
      ]
    },
    {
      "source": [
        "**Email Sessions**"
      ],
      "cell_type": "markdown",
      "metadata": {}
    },
    {
      "cell_type": "code",
      "execution_count": null,
      "metadata": {},
      "outputs": [],
      "source": [
        "#aggregate of email sessions\n",
        "email = df_clean[['Email DL (Bytes)', 'Email UL (Bytes)']]\n",
        "email.aggregate([np.sum, 'mean'], axis=0)\n",
        "df_email = df_clean.groupby(['IMSI'])['Email DL (Bytes)', 'Email UL (Bytes)'].sum()\n",
        "df_email.head()"
      ]
    },
    {
      "source": [
        "**Youtube Sessions**"
      ],
      "cell_type": "markdown",
      "metadata": {}
    },
    {
      "cell_type": "code",
      "execution_count": null,
      "metadata": {},
      "outputs": [],
      "source": [
        "#aggregate of youtube sessions\n",
        "youtube = df_clean[['Youtube DL (Bytes)', 'Youtube UL (Bytes)']]\n",
        "youtube.aggregate([np.sum, 'mean'], axis=0)\n",
        "df_yt = df_clean.groupby(['IMSI'])['Youtube DL (Bytes)', 'Youtube UL (Bytes)'].sum()\n",
        "df_yt.head()"
      ]
    },
    {
      "source": [
        "**Netflix Sessions**"
      ],
      "cell_type": "markdown",
      "metadata": {}
    },
    {
      "cell_type": "code",
      "execution_count": null,
      "metadata": {},
      "outputs": [],
      "source": [
        "#aggregate of netflix sessions\n",
        "netflix = df_clean[['Netflix DL (Bytes)', 'Netflix UL (Bytes)']]\n",
        "netflix.aggregate([np.sum, 'mean'], axis=0)\n",
        "df_netflix = df_clean.groupby(['IMSI'])['Netflix DL (Bytes)', 'Netflix UL (Bytes)'].sum()\n",
        "df_netflix.head()"
      ]
    },
    {
      "source": [
        "**Gaming Session**"
      ],
      "cell_type": "markdown",
      "metadata": {}
    },
    {
      "cell_type": "code",
      "execution_count": null,
      "metadata": {},
      "outputs": [],
      "source": [
        "#aggregate of gaming sessions\n",
        "gaming = df_clean[['Gaming DL (Bytes)', 'Gaming UL (Bytes)']]\n",
        "gaming.aggregate([np.sum, 'mean'], axis=0)\n",
        "df_gaming = df_clean.groupby(['IMSI'])['Gaming DL (Bytes)', 'Gaming UL (Bytes)'].sum()\n",
        "df_gaming.head()"
      ]
    },
    {
      "source": [
        "**Other Sessions**"
      ],
      "cell_type": "markdown",
      "metadata": {}
    },
    {
      "cell_type": "code",
      "execution_count": null,
      "metadata": {},
      "outputs": [],
      "source": [
        "#aggregate of other sessions\n",
        "other = df_clean[['Other DL (Bytes)', 'Other UL (Bytes)']]\n",
        "other.aggregate([np.sum, 'mean'], axis=0)\n",
        "df_other = df_clean.groupby(['IMSI'])['Other DL (Bytes)', 'Other UL (Bytes)'].sum()\n",
        "df_other.head()"
      ]
    },
    {
      "cell_type": "code",
      "execution_count": null,
      "metadata": {},
      "outputs": [],
      "source": [
        "df_agg = df_clean[['IMSI', 'Dur. (ms)',\n",
        "                'Social Media DL (Bytes)','Social Media UL (Bytes)', 'Google DL (Bytes)', \n",
        "                'Google UL (Bytes)', 'Email DL (Bytes)', 'Email UL (Bytes)', 'Youtube DL (Bytes)', \n",
        "                'Youtube UL (Bytes)', 'Netflix DL (Bytes)', 'Netflix UL (Bytes)', 'Gaming DL (Bytes)', \n",
        "                'Gaming UL (Bytes)', 'Other DL (Bytes)', 'Other UL (Bytes)', 'Total UL (Bytes)', 'Total DL (Bytes)']].groupby(['IMSI']).sum()"
      ]
    },
    {
      "cell_type": "code",
      "execution_count": null,
      "metadata": {},
      "outputs": [],
      "source": [
        "df_agg.head()"
      ]
    },
    {
      "source": [
        "# **ASSIGNMENT 1.2 - EDA**"
      ],
      "cell_type": "markdown",
      "metadata": {}
    },
    {
      "source": [
        "**Replacing missing values with mean**"
      ],
      "cell_type": "markdown",
      "metadata": {}
    },
    {
      "cell_type": "code",
      "execution_count": null,
      "metadata": {},
      "outputs": [],
      "source": [
        "df = df_agg.copy()\n",
        "df.head()"
      ]
    },
    {
      "cell_type": "code",
      "execution_count": null,
      "metadata": {},
      "outputs": [],
      "source": [
        "df.fillna(df.mean(), inplace = True)"
      ]
    },
    {
      "cell_type": "code",
      "execution_count": null,
      "metadata": {},
      "outputs": [],
      "source": [
        "# Now which column(s) has missing values\n",
        "df.isna().sum()"
      ]
    },
    {
      "cell_type": "code",
      "execution_count": null,
      "metadata": {},
      "outputs": [],
      "source": [
        "percent_missing(df)"
      ]
    },
    {
      "cell_type": "code",
      "execution_count": null,
      "metadata": {},
      "outputs": [],
      "source": [
        "df.describe()"
      ]
    },
    {
      "source": [
        "**Taking care of Outliers** Fix later"
      ],
      "cell_type": "markdown",
      "metadata": {}
    },
    {
      "cell_type": "code",
      "execution_count": null,
      "metadata": {},
      "outputs": [],
      "source": [
        "def format_float(value):\n",
        "    return f'{value:,.2f}'\n",
        "\n",
        "def convert_bytes_to_megabytes(df, bytes_data):\n",
        "    megabyte = 1*10e+5\n",
        "    df[bytes_data] = df[bytes_data] / megabyte\n",
        "    return df[bytes_data]\n",
        "\n",
        "def fix_outlier(df, column_list):\n",
        "    for column in column_list:\n",
        "        df[column] = np.where(df[column] > df[column].quantile(0.95), df[column].mean(),df[column])\n",
        "    \n",
        "    return df\n",
        "\n",
        "pd.options.display.float_format = format_float"
      ]
    },
    {
      "cell_type": "code",
      "execution_count": null,
      "metadata": {},
      "outputs": [],
      "source": [
        "df = fix_outlier(df, list(df.columns))"
      ]
    },
    {
      "source": [
        "# **NON GRAPHICAL UNIVARIATE ANALYSIS**\n",
        "\n",
        "Dispersion parameters, check and comment on variance, standard deviation and range. "
      ],
      "cell_type": "markdown",
      "metadata": {}
    },
    {
      "cell_type": "code",
      "execution_count": null,
      "metadata": {},
      "outputs": [],
      "source": [
        "df.columns.tolist()"
      ]
    },
    {
      "cell_type": "code",
      "execution_count": null,
      "metadata": {},
      "outputs": [],
      "source": [
        "df.dtypes"
      ]
    },
    {
      "cell_type": "code",
      "execution_count": null,
      "metadata": {},
      "outputs": [],
      "source": [
        "df.shape"
      ]
    },
    {
      "source": [
        "**Analysis by Column**"
      ],
      "cell_type": "markdown",
      "metadata": {}
    },
    {
      "cell_type": "code",
      "execution_count": null,
      "metadata": {},
      "outputs": [],
      "source": [
        "df.describe()"
      ]
    },
    {
      "source": [
        "# **GRAPHICAL UNIVARIATE ANALYSIS **"
      ],
      "cell_type": "markdown",
      "metadata": {}
    },
    {
      "cell_type": "code",
      "execution_count": null,
      "metadata": {},
      "outputs": [],
      "source": [
        "import pandas as pd\n",
        "import numpy as np\n",
        "import seaborn as sns\n",
        "import matplotlib.pyplot as plt"
      ]
    },
    {
      "cell_type": "code",
      "execution_count": null,
      "metadata": {},
      "outputs": [],
      "source": [
        "###################################PLOTTING FUNCTIONS###################################\n",
        "\n",
        "def plot_hist(df:pd.DataFrame, column:str, color:str)->None:\n",
        "    # plt.figure(figsize=(15, 10))\n",
        "    # fig, ax = plt.subplots(1, figsize=(12, 7))\n",
        "    sns.displot(data=df, x=column, color=color, kde=True, height=7, aspect=2)\n",
        "    plt.title(f'Distribution of {column}', size=20, fontweight='bold')\n",
        "    plt.show()\n",
        "\n",
        "def plot_count(df:pd.DataFrame, column:str) -> None:\n",
        "    plt.figure(figsize=(12, 7))\n",
        "    sns.countplot(data=df, x=column)\n",
        "    plt.title(f'Distribution of {column}', size=20, fontweight='bold')\n",
        "    plt.show()\n",
        "    \n",
        "def plot_bar(df:pd.DataFrame, x_col:str, y_col:str, title:str, xlabel:str, ylabel:str)->None:\n",
        "    plt.figure(figsize=(12, 7))\n",
        "    sns.barplot(data = df, x=x_col, y=y_col)\n",
        "    plt.title(title, size=20)\n",
        "    plt.xticks(rotation=75, fontsize=14)\n",
        "    plt.yticks( fontsize=14)\n",
        "    plt.xlabel(xlabel, fontsize=16)\n",
        "    plt.ylabel(ylabel, fontsize=16)\n",
        "    plt.show()\n",
        "\n",
        "def plot_heatmap(df:pd.DataFrame, title:str, cbar=False)->None:\n",
        "    plt.figure(figsize=(12, 7))\n",
        "    sns.heatmap(df, annot=True, cmap='viridis', vmin=0, vmax=1, fmt='.2f', linewidths=.7, cbar=cbar )\n",
        "    plt.title(title, size=18, fontweight='bold')\n",
        "    plt.show()\n",
        "\n",
        "def plot_box(df:pd.DataFrame, x_col:str, title:str) -> None:\n",
        "    plt.figure(figsize=(12, 7))\n",
        "    sns.boxplot(data = df, x=x_col)\n",
        "    plt.title(title, size=20)\n",
        "    plt.xticks(rotation=75, fontsize=14)\n",
        "    plt.show()\n",
        "\n",
        "def plot_box_multi(df:pd.DataFrame, x_col:str, y_col:str, title:str) -> None:\n",
        "    plt.figure(figsize=(12, 7))\n",
        "    sns.boxplot(data = df, x=x_col, y=y_col)\n",
        "    plt.title(title, size=20)\n",
        "    plt.xticks(rotation=75, fontsize=14)\n",
        "    plt.yticks( fontsize=14)\n",
        "    plt.show()\n",
        "\n",
        "def plot_scatter(df: pd.DataFrame, x_col: str, y_col: str, title: str, hue: str, style: str) -> None:\n",
        "    plt.figure(figsize=(12, 7))\n",
        "    sns.scatterplot(data = df, x=x_col, y=y_col, hue=hue, style=style)\n",
        "    plt.title(title, size=20)\n",
        "    plt.xticks(fontsize=14)\n",
        "    plt.yticks( fontsize=14)\n",
        "    plt.show()\n"
      ]
    },
    {
      "cell_type": "code",
      "execution_count": null,
      "metadata": {},
      "outputs": [],
      "source": [
        "plot_box(df, \"Dur. (ms)\", \"total user session duration outliers\")"
      ]
    },
    {
      "cell_type": "code",
      "execution_count": null,
      "metadata": {},
      "outputs": [],
      "source": [
        "plot_hist(df, \"Total UL (Bytes)\", \"blue\")"
      ]
    },
    {
      "cell_type": "code",
      "execution_count": null,
      "metadata": {},
      "outputs": [],
      "source": [
        "plot_hist(df, \"Total DL (Bytes)\", \"blue\")"
      ]
    },
    {
      "source": [
        "# **MULTIVARIATE ANALYSIS**"
      ],
      "cell_type": "markdown",
      "metadata": {}
    },
    {
      "cell_type": "code",
      "execution_count": null,
      "metadata": {},
      "outputs": [],
      "source": [
        "def agg_data_per_app(df):\n",
        "    cols = ['Social Media DL (Bytes)',\n",
        "     'Social Media UL (Bytes)',\n",
        "     'Google DL (Bytes)',\n",
        "     'Google UL (Bytes)',\n",
        "     'Email DL (Bytes)',\n",
        "     'Email UL (Bytes)',\n",
        "     'Youtube DL (Bytes)',\n",
        "     'Youtube UL (Bytes)',\n",
        "     'Netflix DL (Bytes)',\n",
        "     'Netflix UL (Bytes)',\n",
        "     'Gaming DL (Bytes)',\n",
        "     'Gaming UL (Bytes)',\n",
        "     'Other DL (Bytes)',\n",
        "     'Other UL (Bytes)']\n",
        "    df['Social Media'] = df[cols[0]] + df[cols[1]]\n",
        "    df['Google'] = df[cols[2]] + df[cols[3]]\n",
        "    df['Email'] = df[cols[4]] + df[cols[5]]\n",
        "    df['Youtube'] = df[cols[6]] + df[cols[7]]\n",
        "    df['Netflix'] = df[cols[8]] + df[cols[9]]\n",
        "    df['Gaming'] = df[cols[10]] + df[cols[11]]\n",
        "    df['Other'] = df[cols[12]] + df[cols[13]]\n",
        "    return df\n",
        "df = agg_data_per_app(df)\n",
        "df.head()"
      ]
    },
    {
      "cell_type": "code",
      "execution_count": null,
      "metadata": {},
      "outputs": [],
      "source": [
        "df_appdata = df[['Social Media','Google', 'Email','Youtube','Netflix','Gaming','Other']]\n",
        "df_appdata.head()"
      ]
    },
    {
      "cell_type": "code",
      "execution_count": null,
      "metadata": {},
      "outputs": [],
      "source": [
        "sns.pairplot(df_appdata.sample(5000), diag_kind = 'kde',\n",
        "             plot_kws = {'alpha': 0.6, 's': 80, 'edgecolor': 'k'},\n",
        "             height=4)"
      ]
    },
    {
      "cell_type": "code",
      "execution_count": null,
      "metadata": {},
      "outputs": [],
      "source": []
    }
  ]
}